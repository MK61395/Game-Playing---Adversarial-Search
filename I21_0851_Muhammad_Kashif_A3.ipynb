{
  "cells": [
    {
      "cell_type": "markdown",
      "id": "6d56b220",
      "metadata": {
        "id": "6d56b220"
      },
      "source": [
        "# Artificial Intelligence Assignment # 3\n",
        "# Muhammad Kashif\n",
        "# 21i-0851"
      ]
    },
    {
      "cell_type": "markdown",
      "id": "5bae84d8",
      "metadata": {
        "id": "5bae84d8"
      },
      "source": [
        "## All Libraries"
      ]
    },
    {
      "cell_type": "code",
      "execution_count": 1,
      "id": "5948cb18",
      "metadata": {
        "id": "5948cb18"
      },
      "outputs": [],
      "source": [
        "# For making table for comparison\n",
        "from prettytable import PrettyTable\n",
        "\n",
        "# Used for printing tic-tac-toe board in a better way\n",
        "from pprint import pprint\n",
        "\n",
        "# Used for the declaration of max and min value\n",
        "import numpy as np\n",
        "\n",
        "# Used for parallelizing the Alpha-Beta Pruning code\n",
        "import threading\n",
        "\n",
        "# Used in gameloop, for choosing random moves for the AI player\n",
        "import random\n",
        "\n",
        "# Used for making deep copy in functions (so original array doesn't get tampered with)\n",
        "import copy\n",
        "\n",
        "# Used to measure the performance of parallel against serial\n",
        "import time"
      ]
    },
    {
      "cell_type": "markdown",
      "id": "19680fbf",
      "metadata": {
        "id": "19680fbf"
      },
      "source": [
        "## Declarations"
      ]
    },
    {
      "cell_type": "code",
      "execution_count": 2,
      "id": "046224fa",
      "metadata": {
        "id": "046224fa"
      },
      "outputs": [],
      "source": [
        "# Defining an empty tic-tac-toe board\n",
        "empty_board = [\n",
        "    ['-', '-', '-'],\n",
        "    ['-', '-', '-'],\n",
        "    ['-', '-', '-']\n",
        "]\n",
        "\n",
        "# Defining a list with all allowed indices\n",
        "all_indices = [(0, 0), (0, 1), (0, 2), (1, 0), (1, 1), (1, 2), (2, 0), (2, 1), (2, 2)]"
      ]
    },
    {
      "cell_type": "markdown",
      "id": "a192cbec",
      "metadata": {
        "id": "a192cbec"
      },
      "source": [
        "## ------------------------------------------------------------------------------------------------------------------------------\n",
        "## =========================== Given Mini-Max Code ===========================\n",
        "## ------------------------------------------------------------------------------------------------------------------------------\n",
        "\n",
        "The key to the ***`Minimax algorithm`*** is a back and forth between the two players, where the player whose \"turn it is\" desires to pick the move with the maximum score. In turn, the scores for each of the available moves are determined by the opposing player deciding which of its available moves has the minimum score. And the scores for the opposing players moves are again determined by the turn-taking player trying to maximize its score and so on all the way down the move tree to an end state.\n",
        "\n",
        "A description for the algorithm, assuming X is the **`\"turn taking player,\"`** would look something like:\n",
        "\n",
        "- If the game is over, return the score from X's perspective.\n",
        "- Otherwise get a list of new game states for every possible move\n",
        "- Create a scores list\n",
        "- For each of these states add the minimax result of that state to the scores list\n",
        "- If it's X's turn, return the maximum score from the scores list\n",
        "- If it's O's turn, return the minimum score from the scores list\n",
        "- You'll notice that this algorithm is recursive, it flips back and forth between the players until a final score is found.\n",
        "\n",
        "Let's walk through the algorithm's execution with the full move tree, and show why, algorithmically, the instant winning move will be picked:"
      ]
    },
    {
      "cell_type": "markdown",
      "id": "2fbc2f81",
      "metadata": {
        "id": "2fbc2f81"
      },
      "source": [
        "![TIC_TAC_TOE](TIC_TAC_TOE_GRAPH2.png)"
      ]
    },
    {
      "cell_type": "markdown",
      "id": "c139ffb6",
      "metadata": {
        "id": "c139ffb6"
      },
      "source": [
        "### Link for the given code: https://www.geeksforgeeks.org/finding-optimal-move-in-tic-tac-toe-using-minimax-algorithm-in-game-theory/\n",
        "### Python3 program to find the next optimal move for a player"
      ]
    },
    {
      "cell_type": "markdown",
      "id": "8087a4f5",
      "metadata": {
        "id": "8087a4f5"
      },
      "source": [
        "## Declarations"
      ]
    },
    {
      "cell_type": "code",
      "execution_count": 3,
      "id": "d509b160",
      "metadata": {
        "id": "d509b160"
      },
      "outputs": [],
      "source": [
        "# Defining the opponent and player symbols\n",
        "opponent = 'o'\n",
        "player   = 'x'\n",
        "\n",
        "# Defining the initial board\n",
        "board = [\n",
        "    [ '_', 'o', 'x' ],\n",
        "    [ 'o', '_', '_' ],\n",
        "    [ '_', '_', '_' ]\n",
        "]\n",
        "\n",
        "# Declaring moves taken for the minimax algorithm to select a single move\n",
        "moves_minimax = 0"
      ]
    },
    {
      "cell_type": "markdown",
      "id": "ec5bba89",
      "metadata": {
        "id": "ec5bba89"
      },
      "source": [
        "## Utility Functions"
      ]
    },
    {
      "cell_type": "code",
      "execution_count": null,
      "id": "d31561ab",
      "metadata": {
        "id": "d31561ab"
      },
      "outputs": [],
      "source": [
        "# This function returns true if there are moves\n",
        "# remaining on the board. It returns false if\n",
        "# there are no moves left to play.\n",
        "def isMovesLeft(board) :\n",
        "\n",
        "    for i in range(3) :\n",
        "        for j in range(3) :\n",
        "            if (board[i][j] == '_') :\n",
        "                return True\n",
        "    return False\n",
        "\n",
        "# This is the evaluation function as discussed\n",
        "# in the previous article ( http://goo.gl/sJgv68 )\n",
        "def evaluate(b) :\n",
        "\n",
        "    # Checking for Rows for X or O victory.\n",
        "    for row in range(3) :\n",
        "        if (b[row][0] == b[row][1] and b[row][1] == b[row][2]) :\n",
        "            if (b[row][0] == player) :\n",
        "                return 10\n",
        "            elif (b[row][0] == opponent) :\n",
        "                return -10\n",
        "\n",
        "    # Checking for Columns for X or O victory.\n",
        "    for col in range(3) :\n",
        "\n",
        "        if (b[0][col] == b[1][col] and b[1][col] == b[2][col]) :\n",
        "\n",
        "            if (b[0][col] == player) :\n",
        "                return 10\n",
        "            elif (b[0][col] == opponent) :\n",
        "                return -10\n",
        "\n",
        "    # Checking for Diagonals for X or O victory.\n",
        "    if (b[0][0] == b[1][1] and b[1][1] == b[2][2]) :\n",
        "\n",
        "        if (b[0][0] == player) :\n",
        "            return 10\n",
        "        elif (b[0][0] == opponent) :\n",
        "            return -10\n",
        "\n",
        "    if (b[0][2] == b[1][1] and b[1][1] == b[2][0]) :\n",
        "\n",
        "        if (b[0][2] == player) :\n",
        "            return 10\n",
        "        elif (b[0][2] == opponent) :\n",
        "            return -10\n",
        "\n",
        "    # Else if none of them have won then return 0\n",
        "    return 0"
      ]
    },
    {
      "cell_type": "markdown",
      "id": "5b2a7c4e",
      "metadata": {
        "id": "5b2a7c4e"
      },
      "source": [
        "## Mini-Max Function"
      ]
    },
    {
      "cell_type": "code",
      "execution_count": null,
      "id": "795434e3",
      "metadata": {
        "id": "795434e3"
      },
      "outputs": [],
      "source": [
        "# This is the minimax function. It considers all\n",
        "# the possible ways the game can go and returns\n",
        "# the value of the board\n",
        "def minimax(board, depth, isMax):\n",
        "    global moves_minimax\n",
        "    moves_minimax += 1\n",
        "    score = evaluate(board)\n",
        "\n",
        "    # If Maximizer has won the game return his/her\n",
        "    # evaluated score\n",
        "    if (score == 10) :\n",
        "        return score\n",
        "\n",
        "    # If Minimizer has won the game return his/her\n",
        "    # evaluated score\n",
        "    if (score == -10) :\n",
        "        return score\n",
        "\n",
        "    # If there are no more moves and no winner then\n",
        "    # it is a tie\n",
        "    if (isMovesLeft(board) == False) :\n",
        "        return 0\n",
        "\n",
        "    # If this maximizer's move\n",
        "    if (isMax) :\n",
        "        best = -1000\n",
        "\n",
        "        # Traverse all cells\n",
        "        for i in range(3) :\n",
        "            for j in range(3) :\n",
        "\n",
        "                # Check if cell is empty\n",
        "                if (board[i][j]=='_') :\n",
        "\n",
        "                    # Make the move\n",
        "                    board[i][j] = player\n",
        "\n",
        "                    # Call minimax recursively and choose\n",
        "                    # the maximum value\n",
        "                    best = max( best, minimax(board, depth + 1, not isMax) )\n",
        "\n",
        "                    # Undo the move\n",
        "                    board[i][j] = '_'\n",
        "        return best\n",
        "\n",
        "    # If this minimizer's move\n",
        "    else :\n",
        "        best = 1000\n",
        "\n",
        "        # Traverse all cells\n",
        "        for i in range(3) :\n",
        "            for j in range(3) :\n",
        "\n",
        "                # Check if cell is empty\n",
        "                if (board[i][j] == '_') :\n",
        "\n",
        "                    # Make the move\n",
        "                    board[i][j] = opponent\n",
        "\n",
        "                    # Call minimax recursively and choose\n",
        "                    # the minimum value\n",
        "                    best = min(best, minimax(board, depth + 1, not isMax))\n",
        "\n",
        "                    # Undo the move\n",
        "                    board[i][j] = '_'\n",
        "        return best"
      ]
    },
    {
      "cell_type": "markdown",
      "id": "0de6eb73",
      "metadata": {
        "id": "0de6eb73"
      },
      "source": [
        "## Main Driver Function"
      ]
    },
    {
      "cell_type": "code",
      "execution_count": null,
      "id": "e47f6db6",
      "metadata": {
        "id": "e47f6db6"
      },
      "outputs": [],
      "source": [
        "# This will return the best possible move for the player\n",
        "def findBestMove(board):\n",
        "    bestVal = -1000\n",
        "    bestMove = (-1, -1)\n",
        "\n",
        "    # Traverse all cells, evaluate minimax function for\n",
        "    # all empty cells. And return the cell with optimal\n",
        "    # value.\n",
        "    for i in range(3):\n",
        "        for j in range(3):\n",
        "\n",
        "            # Check if cell is empty\n",
        "            if (board[i][j] == '_'):\n",
        "\n",
        "                # Make the move\n",
        "                board[i][j] = player\n",
        "\n",
        "                # compute evaluation function for this\n",
        "                # move.\n",
        "                moveVal = minimax(board, 0, False)\n",
        "\n",
        "                # Undo the move\n",
        "                board[i][j] = '_'\n",
        "\n",
        "                # If the value of the current move is\n",
        "                # more than the best value, then update\n",
        "                # best/\n",
        "                if (moveVal > bestVal):\n",
        "                    bestMove = (i, j)\n",
        "                    bestVal = moveVal\n",
        "\n",
        "    print(\"The value of the best Move is :\", bestVal)\n",
        "    print()\n",
        "    return bestMove"
      ]
    },
    {
      "cell_type": "markdown",
      "id": "d8556fc3",
      "metadata": {
        "id": "d8556fc3"
      },
      "source": [
        "## Main"
      ]
    },
    {
      "cell_type": "markdown",
      "id": "3c421f13",
      "metadata": {
        "id": "3c421f13"
      },
      "source": [
        "### Running the Algorithm to Find the Best Move (Returns a Tuple Consisting of Row & Column : Exact Position of Where to Put Our Mark)"
      ]
    },
    {
      "cell_type": "code",
      "execution_count": null,
      "id": "89c6ace0",
      "metadata": {
        "id": "89c6ace0",
        "outputId": "67867c50-e836-4a56-b279-e39b36533c14"
      },
      "outputs": [
        {
          "name": "stdout",
          "output_type": "stream",
          "text": [
            "The value of the best Move is : 10\n",
            "\n"
          ]
        }
      ],
      "source": [
        "bestMove = findBestMove(copy.deepcopy(board))"
      ]
    },
    {
      "cell_type": "markdown",
      "id": "e7701a5f",
      "metadata": {
        "id": "e7701a5f"
      },
      "source": [
        "### Displaying the Optimal Move (Row & Column)"
      ]
    },
    {
      "cell_type": "code",
      "execution_count": null,
      "id": "c9de6e41",
      "metadata": {
        "id": "c9de6e41",
        "outputId": "980615e8-77ec-40ad-c252-a5c9d4c406f3"
      },
      "outputs": [
        {
          "name": "stdout",
          "output_type": "stream",
          "text": [
            "The Optimal Move is :\n",
            "ROW: 2  COL: 2\n"
          ]
        }
      ],
      "source": [
        "print(\"The Optimal Move is :\")\n",
        "print(\"ROW:\", bestMove[0], \" COL:\", bestMove[1])"
      ]
    },
    {
      "cell_type": "markdown",
      "id": "c580e583",
      "metadata": {
        "id": "c580e583"
      },
      "source": [
        "### Displaying Number of Moves the Mini-Max Algorithm Evaluated"
      ]
    },
    {
      "cell_type": "code",
      "execution_count": null,
      "id": "fc473dcf",
      "metadata": {
        "id": "fc473dcf",
        "outputId": "4a592a01-9ca8-48eb-919d-c4f27f4ac3d8"
      },
      "outputs": [
        {
          "name": "stdout",
          "output_type": "stream",
          "text": [
            "Number of different moves mini-max precomputed to go for the best one\n",
            "Number of moves: 1240\n"
          ]
        }
      ],
      "source": [
        "print(\"Number of different moves mini-max precomputed to go for the best one\")\n",
        "print(\"Number of moves:\", moves_minimax)"
      ]
    },
    {
      "cell_type": "markdown",
      "id": "36d95f2b",
      "metadata": {
        "id": "36d95f2b"
      },
      "source": [
        "## The above code is contributed by divyesh072019"
      ]
    },
    {
      "cell_type": "markdown",
      "id": "cef629d0",
      "metadata": {
        "id": "cef629d0"
      },
      "source": [
        "## -----------------------------------------------------------------------------------------------------------------------------\n",
        "## ========================= Alpha-Beta Pruning Code =========================\n",
        "## -----------------------------------------------------------------------------------------------------------------------------"
      ]
    },
    {
      "cell_type": "markdown",
      "id": "c2753066",
      "metadata": {
        "id": "c2753066"
      },
      "source": [
        "## ***Alpha-Beta pruning***\n",
        "\n",
        "**`Alpha–Beta (𝛼−𝛽)`** algorithm is actually an improved minimax using a heuristic. It stops evaluating a move when it makes sure that it’s worse than a previously examined move. Such moves need not to be evaluated further.\n",
        "\n",
        "When added to a simple minimax algorithm, it gives the same output but cuts off certain branches that can’t possibly affect the final decision — dramatically improving the performance\n",
        "\n",
        "### Alpha-Beta Pruning Algorithm Pseudo-Code\n",
        "\n",
        "#### Procedure AlphaBetaPruning(node, depth, alpha, beta, maximizingPlayer)\n",
        "Input:\n",
        "- `node`: current state in the game tree\n",
        "- `depth`: remaining depth to explore\n",
        "- `alpha`: best value for the maximizing player\n",
        "- `beta`: best value for the minimizing player\n",
        "- `maximizingPlayer`: boolean indicating whether it's the maximizing player's turn\n",
        "\n",
        "Output:\n",
        "- The minimax value of the node\n",
        "\n",
        "1. **if** `depth` is 0 **or** `node` is a terminal node **then**\n",
        "2. &nbsp;&nbsp;&nbsp;&nbsp; **return** the heuristic value of `node`\n",
        "\n",
        "3. **if** `maximizingPlayer` **then**\n",
        "4. &nbsp;&nbsp;&nbsp;&nbsp; `value` = -∞\n",
        "5. &nbsp;&nbsp;&nbsp;&nbsp; **for each** child of `node` **do**\n",
        "6. &nbsp;&nbsp;&nbsp;&nbsp;&nbsp;&nbsp;&nbsp;&nbsp; `value` = max(`value`, AlphaBetaPruning(child, depth - 1, alpha, beta, False))\n",
        "7. &nbsp;&nbsp;&nbsp;&nbsp;&nbsp;&nbsp;&nbsp;&nbsp; `alpha` = max(`alpha`, `value`)\n",
        "8. &nbsp;&nbsp;&nbsp;&nbsp;&nbsp;&nbsp;&nbsp;&nbsp; **if** `beta` ≤ `alpha` **then**\n",
        "9. &nbsp;&nbsp;&nbsp;&nbsp;&nbsp;&nbsp;&nbsp;&nbsp;&nbsp;&nbsp;&nbsp;&nbsp; **break** // Beta cut-off\n",
        "10. &nbsp;&nbsp;&nbsp;&nbsp; **return** `value`\n",
        "\n",
        "11. **else**\n",
        "12. &nbsp;&nbsp;&nbsp;&nbsp; `value` = +∞\n",
        "13. &nbsp;&nbsp;&nbsp;&nbsp; **for each** child of `node` **do**\n",
        "14. &nbsp;&nbsp;&nbsp;&nbsp;&nbsp;&nbsp;&nbsp;&nbsp; `value` = min(`value`, AlphaBetaPruning(child, depth - 1, alpha, beta, True))\n",
        "15. &nbsp;&nbsp;&nbsp;&nbsp;&nbsp;&nbsp;&nbsp;&nbsp; `beta` = min(`beta`, `value`)\n",
        "16. &nbsp;&nbsp;&nbsp;&nbsp;&nbsp;&nbsp;&nbsp;&nbsp; **if** `beta` ≤ `alpha` **then**\n",
        "17. &nbsp;&nbsp;&nbsp;&nbsp;&nbsp;&nbsp;&nbsp;&nbsp;&nbsp;&nbsp;&nbsp;&nbsp; **break** // Alpha cut-off\n",
        "18. &nbsp;&nbsp;&nbsp;&nbsp; **return** `value`\n",
        "\n",
        "\n",
        "- Call `AlphaBetaPruning(root, depth, -∞, +∞, True)` to find the optimal move in the game tree.<br><br>\n",
        "\n",
        "### My Approach\n",
        "My algorithm also follows a similar approach, but instead of a single AlphaBetaPruning function, I stuck to the original ***`divyesh072019's Mini-Max`*** code structure and added the necessary changes in that"
      ]
    },
    {
      "cell_type": "markdown",
      "id": "568ee5b6",
      "metadata": {
        "id": "568ee5b6"
      },
      "source": [
        "## Declarations"
      ]
    },
    {
      "cell_type": "code",
      "execution_count": null,
      "id": "80221558",
      "metadata": {
        "id": "80221558"
      },
      "outputs": [],
      "source": [
        "# Defining the opponent and player symbols\n",
        "opponent = 'o'\n",
        "player   = 'x'\n",
        "\n",
        "# Defining the initial board\n",
        "board = [\n",
        "    [ '_', 'o', 'x' ],\n",
        "    [ 'o', '_', '_' ],\n",
        "    [ '_', '_', '_' ]\n",
        "]\n",
        "\n",
        "# Declaring moves taken for the Alpha-Beta Pruning algorithm to select a single move\n",
        "moves_alphabeta = 0"
      ]
    },
    {
      "cell_type": "markdown",
      "id": "5272974a",
      "metadata": {
        "id": "5272974a"
      },
      "source": [
        "## Utility Functions"
      ]
    },
    {
      "cell_type": "code",
      "execution_count": null,
      "id": "03560e67",
      "metadata": {
        "id": "03560e67"
      },
      "outputs": [],
      "source": [
        "# This function returns true if there are moves\n",
        "# remaining on the board. It returns false if\n",
        "# there are no moves left to play.\n",
        "def isMovesLeft_alphabeta(board) :\n",
        "\n",
        "    for i in range(3) :\n",
        "        for j in range(3) :\n",
        "            if (board[i][j] == '_') :\n",
        "                return True\n",
        "    return False\n",
        "\n",
        "# This is the evaluation function as discussed\n",
        "# in the previous article ( http://goo.gl/sJgv68 )\n",
        "def evaluate_alphabeta(b) :\n",
        "\n",
        "    # Checking for Rows for X or O victory.\n",
        "    for row in range(3) :\n",
        "        if (b[row][0] == b[row][1] and b[row][1] == b[row][2]) :\n",
        "            if (b[row][0] == player) :\n",
        "                return 10\n",
        "            elif (b[row][0] == opponent) :\n",
        "                return -10\n",
        "\n",
        "    # Checking for Columns for X or O victory.\n",
        "    for col in range(3) :\n",
        "\n",
        "        if (b[0][col] == b[1][col] and b[1][col] == b[2][col]) :\n",
        "\n",
        "            if (b[0][col] == player) :\n",
        "                return 10\n",
        "            elif (b[0][col] == opponent) :\n",
        "                return -10\n",
        "\n",
        "    # Checking for Diagonals for X or O victory.\n",
        "    if (b[0][0] == b[1][1] and b[1][1] == b[2][2]) :\n",
        "\n",
        "        if (b[0][0] == player) :\n",
        "            return 10\n",
        "        elif (b[0][0] == opponent) :\n",
        "            return -10\n",
        "\n",
        "    if (b[0][2] == b[1][1] and b[1][1] == b[2][0]) :\n",
        "\n",
        "        if (b[0][2] == player) :\n",
        "            return 10\n",
        "        elif (b[0][2] == opponent) :\n",
        "            return -10\n",
        "\n",
        "    # Else if none of them have won then return 0\n",
        "    return 0"
      ]
    },
    {
      "cell_type": "markdown",
      "id": "dc659942",
      "metadata": {
        "id": "dc659942"
      },
      "source": [
        "## Mini-Max Function With Alpha-Beta Pruning"
      ]
    },
    {
      "cell_type": "code",
      "execution_count": null,
      "id": "47dd9084",
      "metadata": {
        "id": "47dd9084"
      },
      "outputs": [],
      "source": [
        "# This is the minimax function with alpha-beta pruning. It considers all\n",
        "# the possible ways the game can go and returns\n",
        "# the value of the board\n",
        "def minimax_with_alphabeta(board, depth, alpha, beta, isMax):\n",
        "    global moves_alphabeta\n",
        "    moves_alphabeta += 1\n",
        "    score = evaluate_alphabeta(board)\n",
        "\n",
        "    # If Maximizer has won the game return his/her\n",
        "    # evaluated score\n",
        "    if (score == 10) :\n",
        "        return score\n",
        "\n",
        "    # If Minimizer has won the game return his/her\n",
        "    # evaluated score\n",
        "    if (score == -10) :\n",
        "        return score\n",
        "\n",
        "    # If there are no more moves and no winner then\n",
        "    # it is a tie\n",
        "    if (isMovesLeft_alphabeta(board) == False) :\n",
        "        return 0\n",
        "\n",
        "    # If this maximizer's move\n",
        "    if (isMax) :\n",
        "        best = -1000\n",
        "\n",
        "        # Traverse all cells\n",
        "        for i in range(3) :\n",
        "            for j in range(3) :\n",
        "\n",
        "                # Check if cell is empty\n",
        "                if (board[i][j]=='_') :\n",
        "\n",
        "                    # Make the move\n",
        "                    board[i][j] = player\n",
        "\n",
        "                    # Call minimax recursively and choose\n",
        "                    # the maximum value\n",
        "                    best = max( best, minimax_with_alphabeta(board, depth + 1, alpha, beta, not isMax) )\n",
        "\n",
        "                    # Undo the move\n",
        "                    board[i][j] = '_'\n",
        "\n",
        "                    # Prune those values that we think are worse than already calculated moves\n",
        "                    alpha = max(alpha, best)\n",
        "                    if beta <= alpha:\n",
        "                        break\n",
        "\n",
        "        return best\n",
        "\n",
        "    # If this minimizer's move\n",
        "    else :\n",
        "        best = 1000\n",
        "\n",
        "        # Traverse all cells\n",
        "        for i in range(3) :\n",
        "            for j in range(3) :\n",
        "\n",
        "                # Check if cell is empty\n",
        "                if (board[i][j] == '_') :\n",
        "\n",
        "                    # Make the move\n",
        "                    board[i][j] = opponent\n",
        "\n",
        "                    # Call minimax recursively and choose\n",
        "                    # the minimum value\n",
        "                    best = min(best, minimax_with_alphabeta(board, depth + 1, alpha, beta, not isMax))\n",
        "\n",
        "                    # Undo the move\n",
        "                    board[i][j] = '_'\n",
        "\n",
        "                    # Prune those values that we think are worse than already calculated moves\n",
        "                    beta = min(beta, best)\n",
        "                    if beta <= alpha:\n",
        "                        break\n",
        "\n",
        "        return best"
      ]
    },
    {
      "cell_type": "markdown",
      "id": "74664552",
      "metadata": {
        "id": "74664552"
      },
      "source": [
        "## Main Driver Function"
      ]
    },
    {
      "cell_type": "code",
      "execution_count": null,
      "id": "05bf7393",
      "metadata": {
        "id": "05bf7393"
      },
      "outputs": [],
      "source": [
        "# This will return the best possible move for the player\n",
        "def findBestMove_alphabeta(board):\n",
        "    bestVal = -1000\n",
        "    bestMove = (-1, -1)\n",
        "    alpha = np.iinfo(np.int64).min\n",
        "    beta = np.iinfo(np.int64).max\n",
        "\n",
        "    # Traverse all cells, evaluate minimax function for\n",
        "    # all empty cells. And return the cell with optimal\n",
        "    # value.\n",
        "    for i in range(3) :\n",
        "        for j in range(3) :\n",
        "\n",
        "            # Check if cell is empty\n",
        "            if (board[i][j] == '_') :\n",
        "\n",
        "                # Make the move\n",
        "                board[i][j] = player\n",
        "\n",
        "                # compute evaluation function for this\n",
        "                # move.\n",
        "                moveVal = minimax_with_alphabeta(board, 0, alpha, beta, False)\n",
        "\n",
        "                # Undo the move\n",
        "                board[i][j] = '_'\n",
        "\n",
        "                # If the value of the current move is\n",
        "                # more than the best value, then update\n",
        "                # best/\n",
        "                if (moveVal > bestVal) :\n",
        "                    bestMove = (i, j)\n",
        "                    bestVal = moveVal\n",
        "\n",
        "    print(\"The value of the best Move is :\", bestVal)\n",
        "    print()\n",
        "    return bestMove"
      ]
    },
    {
      "cell_type": "markdown",
      "id": "7409384a",
      "metadata": {
        "id": "7409384a"
      },
      "source": [
        "## Main"
      ]
    },
    {
      "cell_type": "markdown",
      "id": "19f8cc1c",
      "metadata": {
        "id": "19f8cc1c"
      },
      "source": [
        "### Running the Algorithm to Find the Best Move (Returns a Tuple Consisting of Row & Column : Exact Position of Where to Put Our Mark)"
      ]
    },
    {
      "cell_type": "code",
      "execution_count": null,
      "id": "2f7cf274",
      "metadata": {
        "id": "2f7cf274",
        "outputId": "abb33f78-1820-4c8a-f657-e270de9d2d6c"
      },
      "outputs": [
        {
          "name": "stdout",
          "output_type": "stream",
          "text": [
            "The value of the best Move is : 10\n",
            "\n"
          ]
        }
      ],
      "source": [
        "bestMove = findBestMove_alphabeta(copy.deepcopy(board))"
      ]
    },
    {
      "cell_type": "markdown",
      "id": "60410425",
      "metadata": {
        "id": "60410425"
      },
      "source": [
        "### Displaying the Optimal Move (Row & Column)"
      ]
    },
    {
      "cell_type": "code",
      "execution_count": null,
      "id": "569a8866",
      "metadata": {
        "id": "569a8866",
        "outputId": "41fb15db-fcdf-4dc1-f8fb-896deb126d06"
      },
      "outputs": [
        {
          "name": "stdout",
          "output_type": "stream",
          "text": [
            "The Optimal Move is :\n",
            "ROW: 2  COL: 2\n"
          ]
        }
      ],
      "source": [
        "print(\"The Optimal Move is :\")\n",
        "print(\"ROW:\", bestMove[0], \" COL:\", bestMove[1])"
      ]
    },
    {
      "cell_type": "markdown",
      "id": "ba15ff1b",
      "metadata": {
        "id": "ba15ff1b"
      },
      "source": [
        "### Displaying Number of Moves the Alpha-Beta Pruning Algorithm Evaluated"
      ]
    },
    {
      "cell_type": "code",
      "execution_count": null,
      "id": "498c52b4",
      "metadata": {
        "id": "498c52b4",
        "outputId": "9eb6bfc5-f4c1-474a-c7d8-23a1e8d6b6be"
      },
      "outputs": [
        {
          "name": "stdout",
          "output_type": "stream",
          "text": [
            "Number of different moves alpha-beta pruning precomputed to go for the best one\n",
            "Number of moves: 811\n"
          ]
        }
      ],
      "source": [
        "print(\"Number of different moves alpha-beta pruning precomputed to go for the best one\")\n",
        "print(\"Number of moves:\", moves_alphabeta)"
      ]
    },
    {
      "cell_type": "markdown",
      "id": "c1bf1625",
      "metadata": {
        "id": "c1bf1625"
      },
      "source": [
        "## ------------------------------------------------------------------------------------------------------------------------------\n",
        "## ================ Comparison of Mini-Max & Alpha-Beta Pruning =================\n",
        "## ------------------------------------------------------------------------------------------------------------------------------"
      ]
    },
    {
      "cell_type": "markdown",
      "id": "a4c718d5",
      "metadata": {
        "id": "a4c718d5"
      },
      "source": [
        "## Function to Generate Random Game State"
      ]
    },
    {
      "cell_type": "code",
      "execution_count": null,
      "id": "74d0c6dc",
      "metadata": {
        "id": "74d0c6dc"
      },
      "outputs": [],
      "source": [
        "def generate_random_game_state(board, allowed_indices):\n",
        "    # Calculate no. of empty spaces to be added randomly in the board\n",
        "    empty_spaces_count = np.random.randint(1, 9)\n",
        "\n",
        "    # List that stores indices that are taken by the empty spaces to be added\n",
        "    taken_indices = []\n",
        "\n",
        "    # Iterate N times where N = no. of empty spaces and add '_' at random indexes\n",
        "    # to simulate empty spaces\n",
        "    for _ in range(empty_spaces_count):\n",
        "        x, y = np.random.randint(0, 3), np.random.randint(0, 3)\n",
        "        taken_indices.append((x, y))\n",
        "        board[x][y] = '_'\n",
        "\n",
        "    # Make set of all_indices and taken_indices and subtract to get available indices.\n",
        "    # Works just like in set theory: -> {2, 4, 6, 8} - {2, 6} = {4, 8}\n",
        "    remaining_indices = list(set(all_indices) - set(taken_indices))\n",
        "\n",
        "    # This flag will be used to add 'o' and 'x' alterarnatively\n",
        "    flag = True\n",
        "\n",
        "    # Iterate through remaining indices and add 'o' and 'x' to the remaining\n",
        "    # indices in an alternative fashion\n",
        "    for remaining_index in remaining_indices:\n",
        "        x, y = remaining_index\n",
        "\n",
        "        if flag:\n",
        "            board[x][y] = 'o'\n",
        "            flag = False\n",
        "        else:\n",
        "            board[x][y] = 'x'\n",
        "            flag = True\n",
        "\n",
        "    return board"
      ]
    },
    {
      "cell_type": "markdown",
      "id": "c57d2c2a",
      "metadata": {
        "id": "c57d2c2a"
      },
      "source": [
        "### Generating 3 Random Tic-Tac-Toe States"
      ]
    },
    {
      "cell_type": "code",
      "execution_count": null,
      "id": "980b102e",
      "metadata": {
        "id": "980b102e"
      },
      "outputs": [],
      "source": [
        "rand_tictactoe_state_1 = generate_random_game_state(copy.deepcopy(empty_board), all_indices)\n",
        "rand_tictactoe_state_2 = generate_random_game_state(copy.deepcopy(empty_board), all_indices)\n",
        "rand_tictactoe_state_3 = generate_random_game_state(copy.deepcopy(empty_board), all_indices)"
      ]
    },
    {
      "cell_type": "markdown",
      "id": "44d125e8",
      "metadata": {
        "id": "44d125e8"
      },
      "source": [
        "### Printing Each State Individually"
      ]
    },
    {
      "cell_type": "code",
      "execution_count": null,
      "id": "186344c0",
      "metadata": {
        "id": "186344c0",
        "outputId": "f1e54df7-4c40-4b41-9710-d6ebad6fee6a"
      },
      "outputs": [
        {
          "name": "stdout",
          "output_type": "stream",
          "text": [
            "[['_', '_', 'x'],\n",
            " ['o', '_', '_'],\n",
            " ['_', '_', '_']]\n",
            "\n",
            "[['_', '_', '_'],\n",
            " ['o', 'x', 'o'],\n",
            " ['o', '_', 'x']]\n",
            "\n",
            "[['_', 'o', 'x'],\n",
            " ['_', '_', 'x'],\n",
            " ['o', '_', 'o']]\n"
          ]
        }
      ],
      "source": [
        "pprint(rand_tictactoe_state_1, width = 17)\n",
        "print()\n",
        "pprint(rand_tictactoe_state_2, width = 17)\n",
        "print()\n",
        "pprint(rand_tictactoe_state_3, width = 17)"
      ]
    },
    {
      "cell_type": "markdown",
      "id": "6cd2a970",
      "metadata": {
        "id": "6cd2a970"
      },
      "source": [
        "### Applying Mini-Max on Each State & Saving No. of Nodes Evaluated For Each State in a List"
      ]
    },
    {
      "cell_type": "code",
      "execution_count": null,
      "id": "8a72f5a2",
      "metadata": {
        "id": "8a72f5a2",
        "outputId": "97b7abaf-cd97-484b-8fca-3259e16483ec"
      },
      "outputs": [
        {
          "name": "stdout",
          "output_type": "stream",
          "text": [
            "The value of the best Move is : 10\n",
            "\n",
            "The Optimal Move is :\n",
            "ROW: 0  COL: 0\n",
            "The value of the best Move is : 10\n",
            "\n",
            "The Optimal Move is :\n",
            "ROW: 0  COL: 0\n",
            "The value of the best Move is : -10\n",
            "\n",
            "The Optimal Move is :\n",
            "ROW: 0  COL: 0\n",
            "In these 3 runs, nodes evaluated for mini-max algorithm are: [6379, 29, 50]\n"
          ]
        }
      ],
      "source": [
        "# List to store number of nodes evaluated for each state\n",
        "nodes_evaluated_minimax = []\n",
        "\n",
        "moves_minimax = 0\n",
        "bestMove = findBestMove(copy.deepcopy(rand_tictactoe_state_1))\n",
        "print(\"The Optimal Move is :\")\n",
        "print(\"ROW:\", bestMove[0], \" COL:\", bestMove[1])\n",
        "nodes_evaluated_minimax.append(moves_minimax)\n",
        "\n",
        "moves_minimax = 0\n",
        "bestMove = findBestMove(copy.deepcopy(rand_tictactoe_state_2))\n",
        "print(\"The Optimal Move is :\")\n",
        "print(\"ROW:\", bestMove[0], \" COL:\", bestMove[1])\n",
        "nodes_evaluated_minimax.append(moves_minimax)\n",
        "\n",
        "moves_minimax = 0\n",
        "bestMove = findBestMove(copy.deepcopy(rand_tictactoe_state_3))\n",
        "print(\"The Optimal Move is :\")\n",
        "print(\"ROW:\", bestMove[0], \" COL:\", bestMove[1])\n",
        "nodes_evaluated_minimax.append(moves_minimax)\n",
        "\n",
        "print(\"In these 3 runs, nodes evaluated for mini-max algorithm are:\", nodes_evaluated_minimax)"
      ]
    },
    {
      "cell_type": "markdown",
      "id": "a98fa5a8",
      "metadata": {
        "id": "a98fa5a8"
      },
      "source": [
        "### Applying Alpha-Beta Pruning on Each State & Saving No. of Nodes Evaluated For Each State in a List"
      ]
    },
    {
      "cell_type": "code",
      "execution_count": null,
      "id": "b676cf87",
      "metadata": {
        "id": "b676cf87",
        "outputId": "4d68bd8f-ed9d-4eea-fe1a-4d838c8f812d"
      },
      "outputs": [
        {
          "name": "stdout",
          "output_type": "stream",
          "text": [
            "The value of the best Move is : 10\n",
            "\n",
            "The Optimal Move is :\n",
            "ROW: 0  COL: 0\n",
            "The value of the best Move is : 10\n",
            "\n",
            "The Optimal Move is :\n",
            "ROW: 0  COL: 0\n",
            "The value of the best Move is : -10\n",
            "\n",
            "The Optimal Move is :\n",
            "ROW: 0  COL: 0\n",
            "In these 3 runs, nodes evaluated for alpha-beta pruning algorithm are: [2727, 22, 50]\n"
          ]
        }
      ],
      "source": [
        "# List to store number of nodes evaluated for each state\n",
        "nodes_evaluated_alphabeta = []\n",
        "\n",
        "moves_alphabeta = 0\n",
        "bestMove = findBestMove_alphabeta(copy.deepcopy(rand_tictactoe_state_1))\n",
        "print(\"The Optimal Move is :\")\n",
        "print(\"ROW:\", bestMove[0], \" COL:\", bestMove[1])\n",
        "nodes_evaluated_alphabeta.append(moves_alphabeta)\n",
        "\n",
        "moves_alphabeta = 0\n",
        "bestMove = findBestMove_alphabeta(copy.deepcopy(rand_tictactoe_state_2))\n",
        "print(\"The Optimal Move is :\")\n",
        "print(\"ROW:\", bestMove[0], \" COL:\", bestMove[1])\n",
        "nodes_evaluated_alphabeta.append(moves_alphabeta)\n",
        "\n",
        "moves_alphabeta = 0\n",
        "bestMove = findBestMove_alphabeta(copy.deepcopy(rand_tictactoe_state_3))\n",
        "print(\"The Optimal Move is :\")\n",
        "print(\"ROW:\", bestMove[0], \" COL:\", bestMove[1])\n",
        "nodes_evaluated_alphabeta.append(moves_alphabeta)\n",
        "\n",
        "print(\"In these 3 runs, nodes evaluated for alpha-beta pruning algorithm are:\", nodes_evaluated_alphabeta)"
      ]
    },
    {
      "cell_type": "markdown",
      "id": "d605ea91",
      "metadata": {
        "id": "d605ea91"
      },
      "source": [
        "### Comparison of Mini-Max & Alpha-Beta Pruning Using PrettyTable Module"
      ]
    },
    {
      "cell_type": "code",
      "execution_count": null,
      "id": "ce629846",
      "metadata": {
        "id": "ce629846",
        "outputId": "2daacea4-4c85-4cd1-a8d4-328e8588934d"
      },
      "outputs": [
        {
          "name": "stdout",
          "output_type": "stream",
          "text": [
            "+----------------------------------------------------------------------------+\n",
            "|              |  Without Alpha-Beta Pruning  |   With Alpha-Beta Pruning    |\n",
            "+--------------+------+------+------+---------+------+------+------+---------+\n",
            "|              | Run1 | Run2 | Run3 | Average | run1 | run2 | run3 | average |\n",
            "+--------------+------+------+------+---------+------+------+------+---------+\n",
            "| No. of nodes | 6379 |  29  |  50  |  2152.7 | 2727 |  22  |  50  |  933.0  |\n",
            "|  evaluated   |      |      |      |         |      |      |      |         |\n",
            "+--------------+------+------+------+---------+------+------+------+---------+\n"
          ]
        }
      ],
      "source": [
        "# Creating the pretty table object for comparison\n",
        "table = PrettyTable()\n",
        "\n",
        "table.title = \"          |  Without Alpha-Beta Pruning  |   With Alpha-Beta Pruning\"\n",
        "\n",
        "table.header = True\n",
        "table.border = True\n",
        "table.align = \"c\"\n",
        "\n",
        "table.field_names = [\" \", \"Run1\", \"Run2\", \"Run3\", \"Average\",\n",
        "                     \"run1\", \"run2\", \"run3\", \"average\"]\n",
        "\n",
        "nodes_evaluated_minimax_with_mean = copy.deepcopy(nodes_evaluated_minimax)\n",
        "nodes_evaluated_alphabeta_with_mean = copy.deepcopy(nodes_evaluated_alphabeta)\n",
        "\n",
        "# Appending mean number of nodes of runs at the end of each list\n",
        "nodes_evaluated_minimax_with_mean.append(round(np.mean(nodes_evaluated_minimax), 1))\n",
        "nodes_evaluated_alphabeta_with_mean.append(round(np.mean(nodes_evaluated_alphabeta), 1))\n",
        "\n",
        "# Making a row with no. of nodes in each run and its mean at the end for both (extending after the other)\n",
        "row = nodes_evaluated_minimax_with_mean + nodes_evaluated_alphabeta_with_mean\n",
        "\n",
        "# Add the above row to the table\n",
        "table.add_row([\"No. of nodes\\nevaluated\"] + row)\n",
        "\n",
        "print(table)"
      ]
    },
    {
      "cell_type": "markdown",
      "id": "a2d5856c",
      "metadata": {
        "id": "a2d5856c"
      },
      "source": [
        "## ------------------------------------------------------------------------------------------------------------------------------\n",
        "## ====================== Alpha-Beta Pruning Parallel Code ======================\n",
        "## ------------------------------------------------------------------------------------------------------------------------------"
      ]
    },
    {
      "cell_type": "markdown",
      "id": "0bcd2a2d",
      "metadata": {
        "id": "0bcd2a2d"
      },
      "source": [
        "# I studied a paper published on this very problem. Here is the link:\n",
        "##### https://www.researchgate.net/publication/343945419_IMPLEMENTATION_OF_SEQUENTIAL_AND_PARALLEL_ALPHA-BETA_PRUNING_ALGORITHM\n",
        "\n",
        "## ***Parallel Alpha-Beta pruning***\n",
        "\n",
        "In  order  to  further  increase  the  efficiency of  the  existing  Alpha-Beta  algorithm,  parallelism  has  been introduced into this. Over the past few years, there have been different ***`parallel Alpha-Beta Pruning`*** Systems that have been developed. One amongst them is the classic algorithm which was implemented on sequent symmetry shared memory multiprocessor system in Principal-Variation algorithm is another approach, in which the first branch at a PV node is prioritized even before the remaining branches are searched.  With the advent of this algorithm, many optimization techniques have been proposed. Young Brothers Wait Concept is one which follows the master-slave approach. Here, the first sibling node is searched before spawning the remaining siblings in parallel. Dynamic Tree Splitting is similar to that of Young Brothers Wait Concept, except it disregards the  use of master-slave  and adopts  peer-to-peer approach instead. This method uses multiple processors that process each node separately and is responsible for returning the node’s evaluation to its parent.\n",
        "\n",
        "### Parallel Alpha-Beta Pruning Algorithm Pseudo-Code\n",
        "\n",
        "#### Procedure ParallelAlphaBetaPruning(node, depth, alpha, beta, maximizingPlayer)\n",
        "Input:\n",
        "- `node`: current state in the game tree\n",
        "- `depth`: remaining depth to explore\n",
        "- `alpha`: best value for the maximizing player\n",
        "- `beta`: best value for the minimizing player\n",
        "- `maximizingPlayer`: boolean indicating whether it's the maximizing player's turn\n",
        "\n",
        "Output:\n",
        "- The minimax value of the node\n",
        "\n",
        "1. **if** `depth` is 0 **or** `node` is a terminal node **then**\n",
        "2. &nbsp;&nbsp;&nbsp;&nbsp; **return** the heuristic value of `node`\n",
        "\n",
        "3. **if** `maximizingPlayer` **then**\n",
        "4. &nbsp;&nbsp;&nbsp;&nbsp; `value` = -∞\n",
        "5. &nbsp;&nbsp;&nbsp;&nbsp; `local_alpha` = `alpha`\n",
        "6. &nbsp;&nbsp;&nbsp;&nbsp; `local_beta` = `beta`\n",
        "7. &nbsp;&nbsp;&nbsp;&nbsp; **for each** child of `node` **do in parallel**\n",
        "8. &nbsp;&nbsp;&nbsp;&nbsp;&nbsp;&nbsp;&nbsp;&nbsp; `value` = max(`value`, ParallelAlphaBetaPruning(child, depth - 1, `local_alpha`, `local_beta`, False))\n",
        "9. &nbsp;&nbsp;&nbsp;&nbsp;&nbsp;&nbsp;&nbsp;&nbsp; `local_alpha` = max(`local_alpha`, `value`)\n",
        "10. &nbsp;&nbsp;&nbsp;&nbsp;&nbsp;&nbsp;&nbsp;&nbsp; **if** `local_beta` ≤ `local_alpha` **then**\n",
        "11. &nbsp;&nbsp;&nbsp;&nbsp;&nbsp;&nbsp;&nbsp;&nbsp;&nbsp;&nbsp;&nbsp;&nbsp; **break** // Beta cut-off\n",
        "12. &nbsp;&nbsp;&nbsp;&nbsp; **return** `value`\n",
        "\n",
        "13. **else**\n",
        "14. &nbsp;&nbsp;&nbsp;&nbsp; `value` = +∞\n",
        "15. &nbsp;&nbsp;&nbsp;&nbsp; `local_alpha` = `alpha`\n",
        "16. &nbsp;&nbsp;&nbsp;&nbsp; `local_beta` = `beta`\n",
        "17. &nbsp;&nbsp;&nbsp;&nbsp; **for each** child of `node` **do in parallel**\n",
        "18. &nbsp;&nbsp;&nbsp;&nbsp;&nbsp;&nbsp;&nbsp;&nbsp; `value` = min(`value`, ParallelAlphaBetaPruning(child, depth - 1, `local_alpha`, `local_beta`, True))\n",
        "19. &nbsp;&nbsp;&nbsp;&nbsp;&nbsp;&nbsp;&nbsp;&nbsp; `local_beta` = min(`local_beta`, `value`)\n",
        "20. &nbsp;&nbsp;&nbsp;&nbsp;&nbsp;&nbsp;&nbsp;&nbsp; **if** `local_beta` ≤ `local_alpha` **then**\n",
        "21. &nbsp;&nbsp;&nbsp;&nbsp;&nbsp;&nbsp;&nbsp;&nbsp;&nbsp;&nbsp;&nbsp;&nbsp; **break** // Alpha cut-off\n",
        "22. &nbsp;&nbsp;&nbsp;&nbsp; **return** `value`<br><br>\n",
        "23. **Procedure** findBestMoveParallel(board):<br><br>\n",
        "24. &nbsp;&nbsp;&nbsp;&nbsp; **Define** a `thread_task` function that takes `isMax` and `results` as arguments\n",
        "25. &nbsp;&nbsp;&nbsp;&nbsp;&nbsp;&nbsp;&nbsp;&nbsp; Initialize `local_bestVal` to -∞ if `isMax` is `True` else to +∞\n",
        "26. &nbsp;&nbsp;&nbsp;&nbsp;&nbsp;&nbsp;&nbsp;&nbsp; Initialize `start` to 0 if `isMax` is `True` else to 1\n",
        "27. &nbsp;&nbsp;&nbsp;&nbsp;&nbsp;&nbsp;&nbsp;&nbsp; **for** each cell in the game board **do**\n",
        "28. &nbsp;&nbsp;&nbsp;&nbsp;&nbsp;&nbsp;&nbsp;&nbsp;&nbsp;&nbsp;&nbsp;&nbsp; **if** the cell is empty **then**\n",
        "29. &nbsp;&nbsp;&nbsp;&nbsp;&nbsp;&nbsp;&nbsp;&nbsp;&nbsp;&nbsp;&nbsp;&nbsp;&nbsp;&nbsp;&nbsp;&nbsp; Assign the current player's symbol to the empty cell\n",
        "30. &nbsp;&nbsp;&nbsp;&nbsp;&nbsp;&nbsp;&nbsp;&nbsp;&nbsp;&nbsp;&nbsp;&nbsp;&nbsp;&nbsp;&nbsp;&nbsp; Compute the move value using ParallelAlphaBetaPruning with the current state of the board\n",
        "31. &nbsp;&nbsp;&nbsp;&nbsp;&nbsp;&nbsp;&nbsp;&nbsp;&nbsp;&nbsp;&nbsp;&nbsp;&nbsp;&nbsp;&nbsp;&nbsp; Assign the current cell to the best move if it maximizes the value for the player or minimizes it for the opponent\n",
        "32. &nbsp;&nbsp;&nbsp;&nbsp;&nbsp;&nbsp;&nbsp;&nbsp;&nbsp;&nbsp;&nbsp;&nbsp; **end if**\n",
        "33. &nbsp;&nbsp;&nbsp;&nbsp;&nbsp;&nbsp;&nbsp;&nbsp; **end for**\n",
        "34. &nbsp;&nbsp;&nbsp;&nbsp;&nbsp;&nbsp;&nbsp;&nbsp; Append `(local_bestVal, local_bestMove)` to the `results`\n",
        "35. &nbsp;&nbsp;&nbsp;&nbsp; **end function**<br><br>\n",
        "36. &nbsp;&nbsp;&nbsp;&nbsp; Initialize an empty list `results`\n",
        "37. &nbsp;&nbsp;&nbsp;&nbsp; Create two threads, one for the maximizing player and one for the minimizing player, each calling `thread_task`\n",
        "38. &nbsp;&nbsp;&nbsp;&nbsp; **for** each thread **do**\n",
        "39. &nbsp;&nbsp;&nbsp;&nbsp;&nbsp;&nbsp;&nbsp;&nbsp; Start the thread\n",
        "40. &nbsp;&nbsp;&nbsp;&nbsp; **end for**\n",
        "41. &nbsp;&nbsp;&nbsp;&nbsp; **for** each thread **do**\n",
        "42. &nbsp;&nbsp;&nbsp;&nbsp;&nbsp;&nbsp;&nbsp;&nbsp; Join the thread\n",
        "43. &nbsp;&nbsp;&nbsp;&nbsp; **end for**\n",
        "44. &nbsp;&nbsp;&nbsp;&nbsp; Find the maximum value and corresponding move from the `results`\n",
        "45. &nbsp;&nbsp;&nbsp;&nbsp; **return** the best move"
      ]
    },
    {
      "cell_type": "markdown",
      "id": "20aaf7ff",
      "metadata": {
        "id": "20aaf7ff"
      },
      "source": [
        "## Declarations"
      ]
    },
    {
      "cell_type": "code",
      "execution_count": null,
      "id": "ec23ddfb",
      "metadata": {
        "id": "ec23ddfb"
      },
      "outputs": [],
      "source": [
        "# Define player and opponent symbols\n",
        "opponent = 'o'\n",
        "player = 'x'\n",
        "\n",
        "# Defining the initial board\n",
        "board = [\n",
        "    ['_', 'o', 'x'],\n",
        "    ['o', '_', '_'],\n",
        "    ['_', '_', '_']\n",
        "]\n",
        "\n",
        "# Declaring moves taken for the Alpha-Beta Pruning algorithm to select a single move\n",
        "moves_alphabeta_parallel = 0"
      ]
    },
    {
      "cell_type": "markdown",
      "id": "4101ba2e",
      "metadata": {
        "id": "4101ba2e"
      },
      "source": [
        "## Utility Funtions"
      ]
    },
    {
      "cell_type": "code",
      "execution_count": null,
      "id": "c1e95435",
      "metadata": {
        "id": "c1e95435"
      },
      "outputs": [],
      "source": [
        "# This function returns true if there are moves\n",
        "# remaining on the board. It returns false if\n",
        "# there are no moves left to play.\n",
        "def isMovesLeft_alphabeta_parallel(board):\n",
        "\n",
        "    for i in range(3):\n",
        "        for j in range(3):\n",
        "            if board[i][j] == '_':\n",
        "                return True\n",
        "    return False\n",
        "\n",
        "# This is the evaluation function as discussed\n",
        "# in the previous article ( http://goo.gl/sJgv68 )\n",
        "def evaluate_alphabeta_parallel(b):\n",
        "\n",
        "    # Checking for Rows for X or O victory.\n",
        "    for row in range(3):\n",
        "        if b[row][0] == b[row][1] == b[row][2]:\n",
        "            if b[row][0] == player:\n",
        "                return 10\n",
        "            elif b[row][0] == opponent:\n",
        "                return -10\n",
        "\n",
        "    # Checking for Columns for X or O victory.\n",
        "    for col in range(3):\n",
        "        if b[0][col] == b[1][col] == b[2][col]:\n",
        "            if b[0][col] == player:\n",
        "                return 10\n",
        "            elif b[0][col] == opponent:\n",
        "                return -10\n",
        "\n",
        "    # Checking for Diagonals for X or O victory.\n",
        "    if b[0][0] == b[1][1] == b[2][2]:\n",
        "        if b[0][0] == player:\n",
        "            return 10\n",
        "        elif b[0][0] == opponent:\n",
        "            return -10\n",
        "\n",
        "    if b[0][2] == b[1][1] == b[2][0]:\n",
        "        if b[0][2] == player:\n",
        "            return 10\n",
        "        elif b[0][2] == opponent:\n",
        "            return -10\n",
        "\n",
        "    # Else if none of them have won then return 0\n",
        "    return 0"
      ]
    },
    {
      "cell_type": "markdown",
      "id": "942ea798",
      "metadata": {
        "id": "942ea798"
      },
      "source": [
        "## Mini-Max Function With Parallel Alpha-Beta Pruning"
      ]
    },
    {
      "cell_type": "code",
      "execution_count": null,
      "id": "08502487",
      "metadata": {
        "id": "08502487"
      },
      "outputs": [],
      "source": [
        "# This is the parallel minimax function with alpha-beta pruning.\n",
        "# It considers all the possible ways the game can go and returns\n",
        "# the value of the board\n",
        "def minimax_with_alphabeta_parallel(board, depth, alpha, beta, isMax):\n",
        "    global moves_alphabeta_parallel\n",
        "    moves_alphabeta_parallel += 1\n",
        "    score = evaluate_alphabeta_parallel(board)\n",
        "\n",
        "    # If Maximizer has won the game return his/her\n",
        "    # evaluated score\n",
        "    if (score == 10) :\n",
        "        return score\n",
        "\n",
        "    # If Minimizer has won the game return his/her\n",
        "    # evaluated score\n",
        "    if (score == -10) :\n",
        "        return score\n",
        "\n",
        "    # If there are no more moves and no winner then\n",
        "    # it is a tie\n",
        "    if not isMovesLeft_alphabeta_parallel(board):\n",
        "        return 0\n",
        "\n",
        "    # If this maximizer's move\n",
        "    if isMax:\n",
        "        best = -1000\n",
        "\n",
        "        # Traverse all cells\n",
        "        for i in range(3):\n",
        "            for j in range(3):\n",
        "\n",
        "                # Check if cell is empty\n",
        "                if board[i][j] == '_':\n",
        "\n",
        "                    # Make the move\n",
        "                    board[i][j] = player\n",
        "\n",
        "                    # Call minimax recursively and choose\n",
        "                    # the maximum value\n",
        "                    best = max(best, minimax_with_alphabeta_parallel(board, depth + 1, alpha, beta, False))\n",
        "\n",
        "                    # Undo the move\n",
        "                    board[i][j] = '_'\n",
        "\n",
        "                    # Prune those values that we think are worse than already calculated moves\n",
        "                    alpha = max(alpha, best)\n",
        "                    if beta <= alpha:\n",
        "                        break\n",
        "\n",
        "        return best\n",
        "\n",
        "    # If this minimizer's move\n",
        "    else:\n",
        "        best = 1000\n",
        "\n",
        "        # Traverse all cells\n",
        "        for i in range(3):\n",
        "            for j in range(3):\n",
        "\n",
        "                # Check if cell is empty\n",
        "                if board[i][j] == '_':\n",
        "\n",
        "                    # Make the move\n",
        "                    board[i][j] = opponent\n",
        "\n",
        "                    # Call minimax recursively and choose\n",
        "                    # the minimum value\n",
        "                    best = min(best, minimax_with_alphabeta_parallel(board, depth + 1, alpha, beta, True))\n",
        "\n",
        "                    # Undo the move\n",
        "                    board[i][j] = '_'\n",
        "\n",
        "                    # Prune those values that we think are worse than already calculated moves\n",
        "                    beta = min(beta, best)\n",
        "                    if beta <= alpha:\n",
        "                        break\n",
        "\n",
        "        return best"
      ]
    },
    {
      "cell_type": "markdown",
      "id": "629aa0a0",
      "metadata": {
        "id": "629aa0a0"
      },
      "source": [
        "## Main Driver Function"
      ]
    },
    {
      "cell_type": "code",
      "execution_count": null,
      "id": "cf966f2f",
      "metadata": {
        "id": "cf966f2f"
      },
      "outputs": [],
      "source": [
        "# This will return the best possible move for the player\n",
        "def findBestMove_alphabeta_parallel(board):\n",
        "    bestVal = -1000\n",
        "    bestMove = (-1, -1)\n",
        "    alpha = np.iinfo(np.int32).min\n",
        "    beta = np.iinfo(np.int32).max\n",
        "\n",
        "    def thread_task(isMax, results):\n",
        "        local_bestVal = -1000 if isMax else 1000\n",
        "        local_bestMove = (-1, -1)\n",
        "\n",
        "        start = 0 if isMax else 1\n",
        "        step = 2 if isMax else 2\n",
        "\n",
        "        # Traverse all cells, evaluate minimax function for\n",
        "        # all empty cells. And return the cell with optimal\n",
        "        # value.\n",
        "        for i in range(3):\n",
        "            for j in range(start, 3, step):\n",
        "\n",
        "                # Check if cell is empty\n",
        "                if board[i][j] == '_':\n",
        "                    # if maximizer's move, add 'x' to the board, else add 'o'\n",
        "                    board[i][j] = player if isMax else opponent\n",
        "\n",
        "                    # compute evaluation function for this\n",
        "                    # move.\n",
        "                    moveVal = minimax_with_alphabeta_parallel(board, 0, alpha, beta, not isMax)\n",
        "\n",
        "                    # Undo the move\n",
        "                    board[i][j] = '_'\n",
        "\n",
        "                    # If the value of the current move is\n",
        "                    # more than the best value, then update\n",
        "                    # best. If condition is for if player\n",
        "                    # is being updated, then moveVal should\n",
        "                    # be greater than local_bestVal, then\n",
        "                    # update local_bestVal and local_bestMove,\n",
        "                    # and vice versa for the opponent move.\n",
        "                    # But, in that, the moveVal should be less\n",
        "                    # than local_bestVal\n",
        "                    if isMax and moveVal > local_bestVal:\n",
        "                        local_bestVal, local_bestMove = moveVal, (i, j)\n",
        "                    elif not isMax and moveVal < local_bestVal:\n",
        "                        local_bestVal, local_bestMove = moveVal, (i, j)\n",
        "\n",
        "        results.append((local_bestVal, local_bestMove))\n",
        "\n",
        "    results = []\n",
        "\n",
        "    # Defining 2 threads (one for Maximizing player & one for minimizing player)\n",
        "    threads = [\n",
        "        threading.Thread(target=thread_task, args=(True, results)),\n",
        "        threading.Thread(target=thread_task, args=(False, results))\n",
        "    ]\n",
        "\n",
        "    # Starting the thread & joining them\n",
        "    for thread in threads:\n",
        "        thread.start()\n",
        "    for thread in threads:\n",
        "        thread.join()\n",
        "\n",
        "    # Choosing the best move from the results array\n",
        "    if results:\n",
        "        bestVal, bestMove = max(results, key = lambda x: x[0])\n",
        "\n",
        "    print(\"The value of the best Move is :\", bestVal)\n",
        "    print()\n",
        "    return bestMove"
      ]
    },
    {
      "cell_type": "markdown",
      "id": "42cdcb7b",
      "metadata": {
        "id": "42cdcb7b"
      },
      "source": [
        "## Main"
      ]
    },
    {
      "cell_type": "markdown",
      "id": "f072a7f2",
      "metadata": {
        "id": "f072a7f2"
      },
      "source": [
        "### Running the Algorithm to Find the Best Move (Returns a Tuple Consisting of Row & Column : Exact Position of Where to Put Our Mark)"
      ]
    },
    {
      "cell_type": "code",
      "execution_count": null,
      "id": "220057b5",
      "metadata": {
        "id": "220057b5",
        "outputId": "0e83cbb1-631a-47b7-a369-bf1a917da09b"
      },
      "outputs": [
        {
          "name": "stdout",
          "output_type": "stream",
          "text": [
            "The value of the best Move is : 10\n",
            "\n"
          ]
        }
      ],
      "source": [
        "bestMove = findBestMove_alphabeta_parallel(copy.deepcopy(board))"
      ]
    },
    {
      "cell_type": "markdown",
      "id": "744794c5",
      "metadata": {
        "id": "744794c5"
      },
      "source": [
        "### Displaying the Optimal Move (Row & Column)"
      ]
    },
    {
      "cell_type": "code",
      "execution_count": null,
      "id": "bae2f489",
      "metadata": {
        "id": "bae2f489",
        "outputId": "e808808b-2942-4f3c-a063-98dcbd9ed240"
      },
      "outputs": [
        {
          "name": "stdout",
          "output_type": "stream",
          "text": [
            "The Optimal Move is :\n",
            "ROW: 2  COL: 2\n"
          ]
        }
      ],
      "source": [
        "print(\"The Optimal Move is :\")\n",
        "print(\"ROW:\", bestMove[0], \" COL:\", bestMove[1])"
      ]
    },
    {
      "cell_type": "markdown",
      "id": "69cc59ab",
      "metadata": {
        "id": "69cc59ab"
      },
      "source": [
        "### Displaying Number of Moves the Parallel Alpha-Beta Pruning Algorithm Evaluated"
      ]
    },
    {
      "cell_type": "code",
      "execution_count": null,
      "id": "2aca7d9c",
      "metadata": {
        "id": "2aca7d9c",
        "outputId": "a3fc15a9-e683-46ec-e435-46b12ce1a76c"
      },
      "outputs": [
        {
          "name": "stdout",
          "output_type": "stream",
          "text": [
            "Number of different moves alpha-beta pruning precomputed to go for the best one\n",
            "Number of moves: 705\n"
          ]
        }
      ],
      "source": [
        "print(\"Number of different moves alpha-beta pruning precomputed to go for the best one\")\n",
        "print(\"Number of moves:\", moves_alphabeta_parallel)"
      ]
    },
    {
      "cell_type": "markdown",
      "id": "31c52d8e",
      "metadata": {
        "id": "31c52d8e"
      },
      "source": [
        "## ------------------------------------------------------------------------------------------------------------------------------\n",
        "## ============== Comparison of Parallel & Serial Alpha-Beta Pruning ===============\n",
        "## ------------------------------------------------------------------------------------------------------------------------------"
      ]
    },
    {
      "cell_type": "markdown",
      "id": "5580e5b2",
      "metadata": {
        "id": "5580e5b2"
      },
      "source": [
        "### Generating More 3 Random Tic-Tac-Toe States"
      ]
    },
    {
      "cell_type": "code",
      "execution_count": null,
      "id": "ea25a0a7",
      "metadata": {
        "id": "ea25a0a7"
      },
      "outputs": [],
      "source": [
        "rand_tictactoe_state_4 = generate_random_game_state(copy.deepcopy(empty_board), all_indices)\n",
        "rand_tictactoe_state_5 = generate_random_game_state(copy.deepcopy(empty_board), all_indices)\n",
        "rand_tictactoe_state_6 = generate_random_game_state(copy.deepcopy(empty_board), all_indices)"
      ]
    },
    {
      "cell_type": "markdown",
      "id": "8a5b9bfc",
      "metadata": {
        "id": "8a5b9bfc"
      },
      "source": [
        "### Displaying the Randomly Generated States"
      ]
    },
    {
      "cell_type": "code",
      "execution_count": null,
      "id": "4c8c26c8",
      "metadata": {
        "id": "4c8c26c8",
        "outputId": "94a02a96-4ca5-4c15-f33e-1dc304d25e69"
      },
      "outputs": [
        {
          "name": "stdout",
          "output_type": "stream",
          "text": [
            "[['x', 'o', '_'],\n",
            " ['x', 'o', '_'],\n",
            " ['_', '_', '_']]\n",
            "\n",
            "[['x', 'o', '_'],\n",
            " ['x', '_', 'x'],\n",
            " ['o', 'o', '_']]\n",
            "\n",
            "[['_', 'o', '_'],\n",
            " ['_', '_', 'x'],\n",
            " ['x', 'o', 'o']]\n"
          ]
        }
      ],
      "source": [
        "pprint(rand_tictactoe_state_4, width = 17)\n",
        "print()\n",
        "pprint(rand_tictactoe_state_5, width = 17)\n",
        "print()\n",
        "pprint(rand_tictactoe_state_6, width = 17)"
      ]
    },
    {
      "cell_type": "markdown",
      "id": "5bde3f27",
      "metadata": {
        "id": "5bde3f27"
      },
      "source": [
        "### Applying Serial Alpha-Beta Pruning on Each State & Saving No. of Nodes Evaluated For Each State in a List & Also Saving Time Taken For All 3 To Execute"
      ]
    },
    {
      "cell_type": "code",
      "execution_count": null,
      "id": "98934252",
      "metadata": {
        "id": "98934252",
        "outputId": "1ab81786-a988-469a-fb7c-6ed621f54956"
      },
      "outputs": [
        {
          "name": "stdout",
          "output_type": "stream",
          "text": [
            "The value of the best Move is : 10\n",
            "\n",
            "The Optimal Move is :\n",
            "ROW: 2  COL: 0\n",
            "The value of the best Move is : 10\n",
            "\n",
            "The Optimal Move is :\n",
            "ROW: 1  COL: 1\n",
            "The value of the best Move is : 10\n",
            "\n",
            "The Optimal Move is :\n",
            "ROW: 1  COL: 1\n",
            "\n",
            "In these 3 runs, nodes evaluated for serial alpha-beta pruning algorithm are: [125, 5, 38]\n",
            "In these 3 runs, time taken for the serial alpha-beta pruning algorithm to run are: [0.0107, 0.0072, 0.0101]\n"
          ]
        }
      ],
      "source": [
        "# List to store number of nodes evaluated for each state\n",
        "nodes_evaluated_alphabeta_serial = []\n",
        "time_taken_alphabeta_serial = []\n",
        "\n",
        "start_time = time.time()\n",
        "moves_alphabeta = 0\n",
        "bestMove = findBestMove_alphabeta(copy.deepcopy(rand_tictactoe_state_4))\n",
        "print(\"The Optimal Move is :\")\n",
        "print(\"ROW:\", bestMove[0], \" COL:\", bestMove[1])\n",
        "nodes_evaluated_alphabeta_serial.append(moves_alphabeta)\n",
        "end_time = time.time()\n",
        "time_taken_alphabeta_serial.append(round(end_time - start_time, 4))\n",
        "\n",
        "start_time = time.time()\n",
        "moves_alphabeta = 0\n",
        "bestMove = findBestMove_alphabeta(copy.deepcopy(rand_tictactoe_state_5))\n",
        "print(\"The Optimal Move is :\")\n",
        "print(\"ROW:\", bestMove[0], \" COL:\", bestMove[1])\n",
        "nodes_evaluated_alphabeta_serial.append(moves_alphabeta)\n",
        "end_time = time.time()\n",
        "time_taken_alphabeta_serial.append(round(end_time - start_time, 4))\n",
        "\n",
        "start_time = time.time()\n",
        "moves_alphabeta = 0\n",
        "bestMove = findBestMove_alphabeta(copy.deepcopy(rand_tictactoe_state_6))\n",
        "print(\"The Optimal Move is :\")\n",
        "print(\"ROW:\", bestMove[0], \" COL:\", bestMove[1])\n",
        "nodes_evaluated_alphabeta_serial.append(moves_alphabeta)\n",
        "end_time = time.time()\n",
        "time_taken_alphabeta_serial.append(round(end_time - start_time, 4))\n",
        "\n",
        "print(\"\\nIn these 3 runs, nodes evaluated for serial alpha-beta pruning algorithm are:\", nodes_evaluated_alphabeta_serial)\n",
        "print(\"In these 3 runs, time taken for the serial alpha-beta pruning algorithm to run are:\", time_taken_alphabeta_serial)"
      ]
    },
    {
      "cell_type": "markdown",
      "id": "97058b72",
      "metadata": {
        "id": "97058b72"
      },
      "source": [
        "### Applying Parallel Alpha-Beta Pruning on Each State & Saving No. of Nodes Evaluated For Each State in a List & Also Saving Time Taken For All 3 To Execute"
      ]
    },
    {
      "cell_type": "code",
      "execution_count": null,
      "id": "b5066e0b",
      "metadata": {
        "id": "b5066e0b",
        "outputId": "8dbc54a3-ddf4-48be-d7b5-b30f8db08024"
      },
      "outputs": [
        {
          "name": "stdout",
          "output_type": "stream",
          "text": [
            "The value of the best Move is : 10\n",
            "\n",
            "The Optimal Move is :\n",
            "ROW: 2  COL: 0\n",
            "The value of the best Move is : -10\n",
            "\n",
            "The Optimal Move is :\n",
            "ROW: 0  COL: 2\n",
            "The value of the best Move is : -10\n",
            "\n",
            "The Optimal Move is :\n",
            "ROW: 0  COL: 0\n",
            "\n",
            "In these 3 runs, nodes evaluated for parallel alpha-beta pruning algorithm are: [82, 5, 27]\n",
            "In these 3 runs, time taken for the parallel alpha-beta pruning algorithm to run are: [0.0079, 0.0076, 0.0079]\n"
          ]
        }
      ],
      "source": [
        "# List to store number of nodes evaluated for each state\n",
        "nodes_evaluated_alphabeta_parallel = []\n",
        "time_taken_alphabeta_parallel = []\n",
        "\n",
        "start_time = time.time()\n",
        "moves_alphabeta_parallel = 0\n",
        "bestMove = findBestMove_alphabeta_parallel(copy.deepcopy(rand_tictactoe_state_4))\n",
        "print(\"The Optimal Move is :\")\n",
        "print(\"ROW:\", bestMove[0], \" COL:\", bestMove[1])\n",
        "nodes_evaluated_alphabeta_parallel.append(moves_alphabeta_parallel)\n",
        "end_time = time.time()\n",
        "time_taken_alphabeta_parallel.append(round(end_time - start_time, 4))\n",
        "\n",
        "start_time = time.time()\n",
        "moves_alphabeta_parallel = 0\n",
        "bestMove = findBestMove_alphabeta_parallel(copy.deepcopy(rand_tictactoe_state_5))\n",
        "print(\"The Optimal Move is :\")\n",
        "print(\"ROW:\", bestMove[0], \" COL:\", bestMove[1])\n",
        "nodes_evaluated_alphabeta_parallel.append(moves_alphabeta_parallel)\n",
        "end_time = time.time()\n",
        "time_taken_alphabeta_parallel.append(round(end_time - start_time, 4))\n",
        "\n",
        "start_time = time.time()\n",
        "moves_alphabeta_parallel = 0\n",
        "bestMove = findBestMove_alphabeta_parallel(copy.deepcopy(rand_tictactoe_state_6))\n",
        "print(\"The Optimal Move is :\")\n",
        "print(\"ROW:\", bestMove[0], \" COL:\", bestMove[1])\n",
        "nodes_evaluated_alphabeta_parallel.append(moves_alphabeta_parallel)\n",
        "end_time = time.time()\n",
        "time_taken_alphabeta_parallel.append(round(end_time - start_time, 4))\n",
        "\n",
        "print(\"\\nIn these 3 runs, nodes evaluated for parallel alpha-beta pruning algorithm are:\", nodes_evaluated_alphabeta_parallel)\n",
        "print(\"In these 3 runs, time taken for the parallel alpha-beta pruning algorithm to run are:\", time_taken_alphabeta_parallel)"
      ]
    },
    {
      "cell_type": "markdown",
      "id": "e01fbeb1",
      "metadata": {
        "id": "e01fbeb1"
      },
      "source": [
        "### Comparison of Serial & Parallel Alpha-Beta Pruning Using PrettyTable Module"
      ]
    },
    {
      "cell_type": "code",
      "execution_count": null,
      "id": "ff28f3f7",
      "metadata": {
        "id": "ff28f3f7",
        "outputId": "3d679868-6a66-42b9-dc07-5b650765dd76"
      },
      "outputs": [
        {
          "name": "stdout",
          "output_type": "stream",
          "text": [
            "+----------------------------------------------------------------------------------------+\n",
            "|              |     Parallel Alpha-Beta Pruning    |     Serial Alpha-Beta Pruning      |\n",
            "+--------------+--------+--------+--------+---------+--------+--------+--------+---------+\n",
            "|              |  Run1  |  Run2  |  Run3  | Average |  run1  |  run2  |  run3  | average |\n",
            "+--------------+--------+--------+--------+---------+--------+--------+--------+---------+\n",
            "| No. of nodes |   82   |   5    |   27   |   38.0  |  125   |   5    |   38   |   56.0  |\n",
            "|  evaluated   |        |        |        |         |        |        |        |         |\n",
            "+--------------+--------+--------+--------+---------+--------+--------+--------+---------+\n",
            "|  Time Taken  | 0.0079 | 0.0076 | 0.0079 |  0.0078 | 0.0107 | 0.0072 | 0.0101 |  0.0093 |\n",
            "+--------------+--------+--------+--------+---------+--------+--------+--------+---------+\n"
          ]
        }
      ],
      "source": [
        "# Creating the pretty table object for comparison\n",
        "table = PrettyTable()\n",
        "\n",
        "table.title = \"        |     Parallel Alpha-Beta Pruning    |     Serial Alpha-Beta Pruning\"\n",
        "\n",
        "table.header = True\n",
        "table.border = True\n",
        "table.align = \"c\"\n",
        "\n",
        "table.field_names = [\" \", \"Run1\", \"Run2\", \"Run3\", \"Average\",\n",
        "                     \"run1\", \"run2\", \"run3\", \"average\"]\n",
        "\n",
        "nodes_evaluated_alphabeta_serial_with_mean = copy.deepcopy(nodes_evaluated_alphabeta_serial)\n",
        "nodes_evaluated_alphabeta_parallel_with_mean = copy.deepcopy(nodes_evaluated_alphabeta_parallel)\n",
        "\n",
        "time_taken_alphabeta_serial_with_mean = copy.deepcopy(time_taken_alphabeta_serial)\n",
        "time_taken_alphabeta_parallel_with_mean = copy.deepcopy(time_taken_alphabeta_parallel)\n",
        "\n",
        "# Appending mean number of nodes of runs at the end of each list\n",
        "nodes_evaluated_alphabeta_serial_with_mean.append(round(np.mean(nodes_evaluated_alphabeta_serial), 1))\n",
        "nodes_evaluated_alphabeta_parallel_with_mean.append(round(np.mean(nodes_evaluated_alphabeta_parallel), 1))\n",
        "\n",
        "time_taken_alphabeta_serial_with_mean.append(round(np.mean(time_taken_alphabeta_serial), 4))\n",
        "time_taken_alphabeta_parallel_with_mean.append(round(np.mean(time_taken_alphabeta_parallel), 4))\n",
        "\n",
        "# Making a row with no. of nodes in each run and its mean at the end for both (extending after the other)\n",
        "row1 = nodes_evaluated_alphabeta_parallel_with_mean + nodes_evaluated_alphabeta_serial_with_mean\n",
        "row2 = time_taken_alphabeta_parallel_with_mean + time_taken_alphabeta_serial_with_mean\n",
        "\n",
        "# Add the above rows to the table\n",
        "table.add_row([\"No. of nodes\\nevaluated\"] + row1, divider = True)\n",
        "table.add_row([\"Time Taken\"] + row2)\n",
        "\n",
        "print(table)"
      ]
    },
    {
      "cell_type": "markdown",
      "id": "aaacfa15",
      "metadata": {
        "id": "aaacfa15"
      },
      "source": [
        "## -----------------------------------------------------------------------------------------------------------------------------\n",
        "## ======================= Enhanced Alpha-Beta Pruning =======================\n",
        "## -----------------------------------------------------------------------------------------------------------------------------"
      ]
    },
    {
      "cell_type": "markdown",
      "id": "6e3c0858",
      "metadata": {
        "id": "6e3c0858"
      },
      "source": [
        "## Declarations"
      ]
    },
    {
      "cell_type": "code",
      "execution_count": null,
      "id": "1d8527f6",
      "metadata": {
        "id": "1d8527f6"
      },
      "outputs": [],
      "source": [
        "# Defining the opponent and player symbols\n",
        "opponent = 'o'\n",
        "player   = 'x'\n",
        "\n",
        "# Defining the initial board\n",
        "board = [\n",
        "    [ '_', 'o', 'x' ],\n",
        "    [ 'o', '_', '_' ],\n",
        "    [ '_', '_', '_' ]\n",
        "]\n",
        "\n",
        "# Declaring moves taken for the Alpha-Beta Pruning algorithm to select a single move\n",
        "moves_alphabeta_heuristic = 0"
      ]
    },
    {
      "cell_type": "markdown",
      "id": "85aeca31",
      "metadata": {
        "id": "85aeca31"
      },
      "source": [
        "## Custom Heuristic Function"
      ]
    },
    {
      "cell_type": "code",
      "execution_count": null,
      "id": "5846e8d9",
      "metadata": {
        "id": "5846e8d9"
      },
      "outputs": [],
      "source": [
        "# Function returns the score based on where the\n",
        "# the symbols have been placed by either the\n",
        "# player or the opponent. Uses weightage scores.\n",
        "def heuristic(board):\n",
        "    # Initialize score and weight values for calculations.\n",
        "    # more weight if the player occupies the center\n",
        "    # more, but less than center weight for each potential\n",
        "    # two-in-a-row\n",
        "    score = 0\n",
        "    center_weight = 3\n",
        "    line_weight = 2\n",
        "\n",
        "    # Center control\n",
        "    if board[1][1] == player:\n",
        "        score += center_weight\n",
        "    elif board[1][1] == opponent:\n",
        "        score -= center_weight\n",
        "\n",
        "    # Potential two-in-a-row\n",
        "    for i in range(3):\n",
        "        # Row check\n",
        "        if board[i].count(player) == 2 and board[i].count('_') == 1:\n",
        "            score += line_weight\n",
        "        elif board[i].count(opponent) == 2 and board[i].count('_') == 1:\n",
        "            score -= line_weight\n",
        "\n",
        "        # Columns check\n",
        "        column = [board[0][i], board[1][i], board[2][i]]\n",
        "        if column.count(player) == 2 and column.count('_') == 1:\n",
        "            score += line_weight\n",
        "        elif column.count(opponent) == 2 and column.count('_') == 1:\n",
        "            score -= line_weight\n",
        "\n",
        "    # Checking diagonals\n",
        "    # Extracting both diagonals\n",
        "    diag1 = [board[0][0], board[1][1], board[2][2]]\n",
        "    diag2 = [board[0][2], board[1][1], board[2][0]]\n",
        "    for diag in [diag1, diag2]:\n",
        "        if diag.count(player) == 2 and diag.count('_') == 1:\n",
        "            score += line_weight\n",
        "        elif diag.count(opponent) == 2 and diag.count('_') == 1:\n",
        "            score -= line_weight\n",
        "\n",
        "    # Checking if a move will win the game or not. If it does, make the score = to 10,\n",
        "    # else change it to -10 (enemy win).\n",
        "    # First, checking row or column win\n",
        "    for i in range(3):\n",
        "        if board[i][0] == board[i][1] == board[i][2] != '_':\n",
        "            score = 10 if board[i][0] == player else -10\n",
        "\n",
        "        if board[0][i] == board[1][i] == board[2][i] != '_':\n",
        "            score = 10 if board[0][i] == player else -10\n",
        "\n",
        "    # Now, checking diagonal win\n",
        "    if board[0][0] == board[1][1] == board[2][2] != '_':\n",
        "        score = 10 if board[0][0] == player else -10\n",
        "\n",
        "    if board[0][2] == board[1][1] == board[2][0] != '_':\n",
        "        score = 10 if board[0][2] == self.player else -10\n",
        "\n",
        "    return score"
      ]
    },
    {
      "cell_type": "markdown",
      "id": "58416421",
      "metadata": {
        "id": "58416421"
      },
      "source": [
        "## Utility Functions"
      ]
    },
    {
      "cell_type": "code",
      "execution_count": null,
      "id": "c80bf718",
      "metadata": {
        "id": "c80bf718"
      },
      "outputs": [],
      "source": [
        "# This function returns true if there are moves\n",
        "# remaining on the board. It returns false if\n",
        "# there are no moves left to play.\n",
        "def isMovesLeft_alphabeta_heuristic(board) :\n",
        "\n",
        "    for i in range(3) :\n",
        "        for j in range(3) :\n",
        "            if (board[i][j] == '_') :\n",
        "                return True\n",
        "    return False\n",
        "\n",
        "# This is the evaluation function as discussed\n",
        "# in the previous article ( http://goo.gl/sJgv68 )\n",
        "def evaluate_alphabeta_heuristic(b) :\n",
        "\n",
        "    # Checking for Rows for X or O victory.\n",
        "    for row in range(3) :\n",
        "        if (b[row][0] == b[row][1] and b[row][1] == b[row][2]) :\n",
        "            if (b[row][0] == player) :\n",
        "                return 10\n",
        "            elif (b[row][0] == opponent) :\n",
        "                return -10\n",
        "\n",
        "    # Checking for Columns for X or O victory.\n",
        "    for col in range(3) :\n",
        "\n",
        "        if (b[0][col] == b[1][col] and b[1][col] == b[2][col]) :\n",
        "\n",
        "            if (b[0][col] == player) :\n",
        "                return 10\n",
        "            elif (b[0][col] == opponent) :\n",
        "                return -10\n",
        "\n",
        "    # Checking for Diagonals for X or O victory.\n",
        "    if (b[0][0] == b[1][1] and b[1][1] == b[2][2]) :\n",
        "\n",
        "        if (b[0][0] == player) :\n",
        "            return 10\n",
        "        elif (b[0][0] == opponent) :\n",
        "            return -10\n",
        "\n",
        "    if (b[0][2] == b[1][1] and b[1][1] == b[2][0]) :\n",
        "\n",
        "        if (b[0][2] == player) :\n",
        "            return 10\n",
        "        elif (b[0][2] == opponent) :\n",
        "            return -10\n",
        "\n",
        "    # Else if none of them have won then return 0\n",
        "    return 0"
      ]
    },
    {
      "cell_type": "markdown",
      "id": "cf4371fb",
      "metadata": {
        "id": "cf4371fb"
      },
      "source": [
        "## Mini-Max Function With Enhanced Alpha-Beta Pruning"
      ]
    },
    {
      "cell_type": "code",
      "execution_count": null,
      "id": "ab8cf661",
      "metadata": {
        "id": "ab8cf661"
      },
      "outputs": [],
      "source": [
        "# This is the minimax function with enhanced alpha-beta pruning. It considers all\n",
        "# the possible ways the game can go and returns\n",
        "# the value of the board\n",
        "def minimax_with_alphabeta_heuristic(board, depth, alpha, beta, isMax, max_depth):\n",
        "    global moves_alphabeta_heuristic\n",
        "    moves_alphabeta_heuristic += 1\n",
        "    score = evaluate_alphabeta_heuristic(board)\n",
        "\n",
        "    # If Maximizer has won the game return his/her\n",
        "    # evaluated score\n",
        "    if (score == 10) :\n",
        "        return score\n",
        "\n",
        "    # If Minimizer has won the game return his/her\n",
        "    # evaluated score\n",
        "    if (score == -10) :\n",
        "        return score\n",
        "\n",
        "    # If there are no more moves and no winner then\n",
        "    # it is a tie\n",
        "    if (isMovesLeft_alphabeta_heuristic(board) == False) :\n",
        "        return 0\n",
        "\n",
        "    # If you've reached the terminal state, and there's no further branches,\n",
        "    # return the heuristic value for that state. I'm using pre-defined max\n",
        "    # depth value, which is 3\n",
        "    if depth > max_depth:\n",
        "        return heuristic(board)\n",
        "\n",
        "    # If this maximizer's move\n",
        "    if isMax:\n",
        "        best = -1000\n",
        "\n",
        "        # Traverse all cells\n",
        "        for i in range(3):\n",
        "            for j in range(3):\n",
        "\n",
        "                # Check if cell is empty\n",
        "                if board[i][j] == '_':\n",
        "\n",
        "                    # Make the move\n",
        "                    board[i][j] = player\n",
        "\n",
        "                    # Call minimax recursively and choose\n",
        "                    # the maximum value\n",
        "                    best = max(best, minimax_with_alphabeta_heuristic(board, depth + 1, alpha, beta, not isMax, max_depth))\n",
        "\n",
        "                    # Undo the move\n",
        "                    board[i][j] = '_'\n",
        "\n",
        "                    # Prune those values that we think are worse than already calculated moves\n",
        "                    alpha = max(alpha, best)\n",
        "                    if beta <= alpha:\n",
        "                        break\n",
        "\n",
        "        return best\n",
        "\n",
        "    # If this minimizer's move\n",
        "    else:\n",
        "        best = 1000\n",
        "\n",
        "        # Traverse all cells\n",
        "        for i in range(3):\n",
        "            for j in range(3):\n",
        "\n",
        "                # Check if cell is empty\n",
        "                if board[i][j] == '_':\n",
        "\n",
        "                    # Make the move\n",
        "                    board[i][j] = opponent\n",
        "\n",
        "                    # Call minimax recursively and choose\n",
        "                    # the minimum value\n",
        "                    best = min(best, minimax_with_alphabeta_heuristic(board, depth + 1, alpha, beta, not isMax, max_depth))\n",
        "\n",
        "                    # Undo the move\n",
        "                    board[i][j] = '_'\n",
        "\n",
        "                    # Prune those values that we think are worse than already calculated moves\n",
        "                    beta = min(beta, best)\n",
        "                    if beta <= alpha:\n",
        "                        break\n",
        "\n",
        "        return best"
      ]
    },
    {
      "cell_type": "markdown",
      "id": "6411a920",
      "metadata": {
        "id": "6411a920"
      },
      "source": [
        "## Main Driver Function"
      ]
    },
    {
      "cell_type": "code",
      "execution_count": null,
      "id": "7b5a4fac",
      "metadata": {
        "id": "7b5a4fac"
      },
      "outputs": [],
      "source": [
        "# This will return the best possible move for the player\n",
        "def findBestMove_alphabeta_heuristic(board, max_depth):\n",
        "    bestVal = -1000\n",
        "    bestMove = (-1, -1)\n",
        "    alpha = np.iinfo(np.int64).min\n",
        "    beta = np.iinfo(np.int64).max\n",
        "\n",
        "    # Traverse all cells, evaluate minimax function for\n",
        "    # all empty cells. And return the cell with optimal\n",
        "    # value.\n",
        "    for i in range(3) :\n",
        "        for j in range(3) :\n",
        "\n",
        "            # Check if cell is empty\n",
        "            if (board[i][j] == '_') :\n",
        "\n",
        "                # Make the move\n",
        "                board[i][j] = player\n",
        "\n",
        "                # compute evaluation function for this\n",
        "                # move.\n",
        "                moveVal = minimax_with_alphabeta_heuristic(board, 0, alpha, beta, False, max_depth)\n",
        "\n",
        "                # Undo the move\n",
        "                board[i][j] = '_'\n",
        "\n",
        "                # If the value of the current move is\n",
        "                # more than the best value, then update\n",
        "                # best/\n",
        "                if (moveVal > bestVal) :\n",
        "                    bestMove = (i, j)\n",
        "                    bestVal = moveVal\n",
        "\n",
        "    print(\"The value of the best Move is :\", bestVal)\n",
        "    print()\n",
        "    return bestMove"
      ]
    },
    {
      "cell_type": "markdown",
      "id": "f58309d3",
      "metadata": {
        "id": "f58309d3"
      },
      "source": [
        "## Main"
      ]
    },
    {
      "cell_type": "markdown",
      "id": "0b08176a",
      "metadata": {
        "id": "0b08176a"
      },
      "source": [
        "### Running the Algorithm to Find the Best Move (Returns a Tuple Consisting of Row & Column : Exact Position of Where to Put Our Mark)"
      ]
    },
    {
      "cell_type": "code",
      "execution_count": null,
      "id": "059491c1",
      "metadata": {
        "id": "059491c1",
        "outputId": "f660596a-7aa3-442a-a799-f0c5c993030f"
      },
      "outputs": [
        {
          "name": "stdout",
          "output_type": "stream",
          "text": [
            "The value of the best Move is : 3\n",
            "\n"
          ]
        }
      ],
      "source": [
        "# You can change the max_depth parameter according to your performance needs.\n",
        "bestMove = findBestMove_alphabeta_heuristic(copy.deepcopy(board), max_depth = 2)"
      ]
    },
    {
      "cell_type": "markdown",
      "id": "6b26c91f",
      "metadata": {
        "id": "6b26c91f"
      },
      "source": [
        "### Displaying the Optimal Move (Row & Column)"
      ]
    },
    {
      "cell_type": "code",
      "execution_count": null,
      "id": "1e1bc8dc",
      "metadata": {
        "id": "1e1bc8dc",
        "outputId": "f184dcaa-8cfc-4743-8890-ed161057adae"
      },
      "outputs": [
        {
          "name": "stdout",
          "output_type": "stream",
          "text": [
            "The Optimal Move is :\n",
            "ROW: 2  COL: 2\n"
          ]
        }
      ],
      "source": [
        "print(\"The Optimal Move is :\")\n",
        "print(\"ROW:\", bestMove[0], \" COL:\", bestMove[1])"
      ]
    },
    {
      "cell_type": "markdown",
      "id": "10a55297",
      "metadata": {
        "id": "10a55297"
      },
      "source": [
        "### Displaying Number of Moves the Enhanced Alpha-Beta Pruning Algorithm Evaluated"
      ]
    },
    {
      "cell_type": "code",
      "execution_count": null,
      "id": "1adb5041",
      "metadata": {
        "id": "1adb5041",
        "outputId": "1cff190e-47e4-4ae2-9c5a-7f914f27781d"
      },
      "outputs": [
        {
          "name": "stdout",
          "output_type": "stream",
          "text": [
            "Number of different moves alpha-beta pruning precomputed to go for the best one\n",
            "Number of moves: 359\n"
          ]
        }
      ],
      "source": [
        "print(\"Number of different moves alpha-beta pruning precomputed to go for the best one\")\n",
        "print(\"Number of moves:\", moves_alphabeta_heuristic)"
      ]
    },
    {
      "cell_type": "markdown",
      "id": "3804921c",
      "metadata": {
        "id": "3804921c"
      },
      "source": [
        "## ------------------------------------------------------------------------------------------------------------------------------\n",
        "## ============= Comparison of Enhanced & Normal Alpha-Beta Pruning =============\n",
        "## ------------------------------------------------------------------------------------------------------------------------------"
      ]
    },
    {
      "cell_type": "markdown",
      "id": "a8011049",
      "metadata": {
        "id": "a8011049"
      },
      "source": [
        "### Generating More 3 Random Tic-Tac-Toe States"
      ]
    },
    {
      "cell_type": "code",
      "execution_count": null,
      "id": "c94e937f",
      "metadata": {
        "id": "c94e937f"
      },
      "outputs": [],
      "source": [
        "rand_tictactoe_state_7 = generate_random_game_state(copy.deepcopy(empty_board), all_indices)\n",
        "rand_tictactoe_state_8 = generate_random_game_state(copy.deepcopy(empty_board), all_indices)\n",
        "rand_tictactoe_state_9 = generate_random_game_state(copy.deepcopy(empty_board), all_indices)"
      ]
    },
    {
      "cell_type": "markdown",
      "id": "d4aa5768",
      "metadata": {
        "id": "d4aa5768"
      },
      "source": [
        "### Displaying the Randomly Generated States"
      ]
    },
    {
      "cell_type": "code",
      "execution_count": null,
      "id": "334423af",
      "metadata": {
        "id": "334423af",
        "outputId": "f8d56555-9179-4dfb-e44c-ac248dcf8372"
      },
      "outputs": [
        {
          "name": "stdout",
          "output_type": "stream",
          "text": [
            "[['_', 'o', 'o'],\n",
            " ['_', 'x', '_'],\n",
            " ['_', '_', '_']]\n",
            "\n",
            "[['_', 'o', 'x'],\n",
            " ['_', '_', 'o'],\n",
            " ['_', 'x', '_']]\n",
            "\n",
            "[['o', 'o', 'x'],\n",
            " ['_', '_', 'x'],\n",
            " ['_', '_', 'o']]\n"
          ]
        }
      ],
      "source": [
        "pprint(rand_tictactoe_state_7, width = 17)\n",
        "print()\n",
        "pprint(rand_tictactoe_state_8, width = 17)\n",
        "print()\n",
        "pprint(rand_tictactoe_state_9, width = 17)"
      ]
    },
    {
      "cell_type": "markdown",
      "id": "7b451680",
      "metadata": {
        "id": "7b451680"
      },
      "source": [
        "### Applying Normal Alpha-Beta Pruning on Each State & Saving No. of Nodes Evaluated For Each State in a List"
      ]
    },
    {
      "cell_type": "code",
      "execution_count": null,
      "id": "871b9396",
      "metadata": {
        "id": "871b9396",
        "outputId": "69654d67-8bbc-4bb4-d3f6-79cd17f60531"
      },
      "outputs": [
        {
          "name": "stdout",
          "output_type": "stream",
          "text": [
            "The value of the best Move is : 0\n",
            "\n",
            "The Optimal Move is :\n",
            "ROW: 0  COL: 0\n",
            "The value of the best Move is : 10\n",
            "\n",
            "The Optimal Move is :\n",
            "ROW: 2  COL: 0\n",
            "The value of the best Move is : 10\n",
            "\n",
            "The Optimal Move is :\n",
            "ROW: 1  COL: 1\n",
            "\n",
            "In these 3 runs, nodes evaluated for serial alpha-beta pruning algorithm are: [611, 244, 41]\n"
          ]
        }
      ],
      "source": [
        "# List to store number of nodes evaluated for each state\n",
        "nodes_evaluated_alphabeta_normal = []\n",
        "\n",
        "moves_alphabeta = 0\n",
        "bestMove = findBestMove_alphabeta(copy.deepcopy(rand_tictactoe_state_7))\n",
        "print(\"The Optimal Move is :\")\n",
        "print(\"ROW:\", bestMove[0], \" COL:\", bestMove[1])\n",
        "nodes_evaluated_alphabeta_normal.append(moves_alphabeta)\n",
        "\n",
        "moves_alphabeta = 0\n",
        "bestMove = findBestMove_alphabeta(copy.deepcopy(rand_tictactoe_state_8))\n",
        "print(\"The Optimal Move is :\")\n",
        "print(\"ROW:\", bestMove[0], \" COL:\", bestMove[1])\n",
        "nodes_evaluated_alphabeta_normal.append(moves_alphabeta)\n",
        "\n",
        "moves_alphabeta = 0\n",
        "bestMove = findBestMove_alphabeta(copy.deepcopy(rand_tictactoe_state_9))\n",
        "print(\"The Optimal Move is :\")\n",
        "print(\"ROW:\", bestMove[0], \" COL:\", bestMove[1])\n",
        "nodes_evaluated_alphabeta_normal.append(moves_alphabeta)\n",
        "\n",
        "print(\"\\nIn these 3 runs, nodes evaluated for serial alpha-beta pruning algorithm are:\", nodes_evaluated_alphabeta_normal)"
      ]
    },
    {
      "cell_type": "markdown",
      "id": "1838a79d",
      "metadata": {
        "id": "1838a79d"
      },
      "source": [
        "### Applying Enhanced Alpha-Beta Pruning on Each State & Saving No. of Nodes Evaluated For Each State in a List"
      ]
    },
    {
      "cell_type": "code",
      "execution_count": null,
      "id": "8a0a2c79",
      "metadata": {
        "id": "8a0a2c79",
        "outputId": "5f23f62d-2638-4366-ce30-d0b3d816cb02"
      },
      "outputs": [
        {
          "name": "stdout",
          "output_type": "stream",
          "text": [
            "The value of the best Move is : 3\n",
            "\n",
            "The Optimal Move is :\n",
            "ROW: 0  COL: 0\n",
            "The value of the best Move is : 10\n",
            "\n",
            "The Optimal Move is :\n",
            "ROW: 2  COL: 0\n",
            "The value of the best Move is : 10\n",
            "\n",
            "The Optimal Move is :\n",
            "ROW: 1  COL: 1\n",
            "\n",
            "In these 3 runs, nodes evaluated for parallel alpha-beta pruning algorithm are: [288, 170, 41]\n"
          ]
        }
      ],
      "source": [
        "# List to store number of nodes evaluated for each state\n",
        "nodes_evaluated_alphabeta_heuristic = []\n",
        "\n",
        "moves_alphabeta_heuristic = 0\n",
        "bestMove = findBestMove_alphabeta_heuristic(copy.deepcopy(rand_tictactoe_state_7), max_depth = 2)\n",
        "print(\"The Optimal Move is :\")\n",
        "print(\"ROW:\", bestMove[0], \" COL:\", bestMove[1])\n",
        "nodes_evaluated_alphabeta_heuristic.append(moves_alphabeta_heuristic)\n",
        "\n",
        "moves_alphabeta_heuristic = 0\n",
        "bestMove = findBestMove_alphabeta_heuristic(copy.deepcopy(rand_tictactoe_state_8), max_depth = 2)\n",
        "print(\"The Optimal Move is :\")\n",
        "print(\"ROW:\", bestMove[0], \" COL:\", bestMove[1])\n",
        "nodes_evaluated_alphabeta_heuristic.append(moves_alphabeta_heuristic)\n",
        "\n",
        "moves_alphabeta_heuristic = 0\n",
        "bestMove = findBestMove_alphabeta_heuristic(copy.deepcopy(rand_tictactoe_state_9), max_depth = 2)\n",
        "print(\"The Optimal Move is :\")\n",
        "print(\"ROW:\", bestMove[0], \" COL:\", bestMove[1])\n",
        "nodes_evaluated_alphabeta_heuristic.append(moves_alphabeta_heuristic)\n",
        "\n",
        "print(\"\\nIn these 3 runs, nodes evaluated for parallel alpha-beta pruning algorithm are:\", nodes_evaluated_alphabeta_heuristic)"
      ]
    },
    {
      "cell_type": "markdown",
      "id": "8e896707",
      "metadata": {
        "id": "8e896707"
      },
      "source": [
        "### Comparison of Enhanced & Normal Alpha-Beta Pruning Using PrettyTable Module"
      ]
    },
    {
      "cell_type": "code",
      "execution_count": null,
      "id": "040a9ca2",
      "metadata": {
        "id": "040a9ca2",
        "outputId": "b8467ee5-500d-4317-e612-98f4031be427"
      },
      "outputs": [
        {
          "name": "stdout",
          "output_type": "stream",
          "text": [
            "+-----------------------------------------------------------------------------+\n",
            "|              |      Alpha-Beta Pruning      |  Enhanced Alpha-Beta Pruning  |\n",
            "+--------------+------+------+------+---------+------+------+------+----------+\n",
            "|              | Run1 | Run2 | Run3 | Average | run1 | run2 | run3 | average  |\n",
            "+--------------+------+------+------+---------+------+------+------+----------+\n",
            "| No. of nodes | 611  | 244  |  41  |  298.7  | 288  | 170  |  41  |  166.3   |\n",
            "|  evaluated   |      |      |      |         |      |      |      |          |\n",
            "+--------------+------+------+------+---------+------+------+------+----------+\n"
          ]
        }
      ],
      "source": [
        "# Creating the pretty table object for comparison\n",
        "table = PrettyTable()\n",
        "\n",
        "table.title = \"             |      Alpha-Beta Pruning      |  Enhanced Alpha-Beta Pruning \"\n",
        "\n",
        "table.header = True\n",
        "table.border = True\n",
        "table.align = \"c\"\n",
        "\n",
        "table.field_names = [\" \", \"Run1\", \"Run2\", \"Run3\", \"Average\",\n",
        "                     \"run1\", \"run2\", \"run3\", \"average\"]\n",
        "\n",
        "nodes_evaluated_alphabeta_normal_with_mean = copy.deepcopy(nodes_evaluated_alphabeta_normal)\n",
        "nodes_evaluated_alphabeta_heuristic_with_mean = copy.deepcopy(nodes_evaluated_alphabeta_heuristic)\n",
        "\n",
        "# Appending mean number of nodes of runs at the end of each list\n",
        "nodes_evaluated_alphabeta_normal_with_mean.append(round(np.mean(nodes_evaluated_alphabeta_normal), 1))\n",
        "nodes_evaluated_alphabeta_heuristic_with_mean.append(round(np.mean(nodes_evaluated_alphabeta_heuristic), 1))\n",
        "\n",
        "# Making a row with no. of nodes in each run and its mean at the end for both (extending after the other)\n",
        "row = nodes_evaluated_alphabeta_normal_with_mean + nodes_evaluated_alphabeta_heuristic_with_mean\n",
        "\n",
        "# Add the above rows to the table\n",
        "table.add_row([\"No. of nodes\\nevaluated\"] + row)\n",
        "\n",
        "print(table)"
      ]
    },
    {
      "cell_type": "markdown",
      "id": "324a6ccb",
      "metadata": {
        "id": "324a6ccb"
      },
      "source": [
        "## -----------------------------------------------------------------------------------------------------------------------------\n",
        "## ============================ Tic-Tac-Toe Game ============================\n",
        "## -----------------------------------------------------------------------------------------------------------------------------"
      ]
    },
    {
      "cell_type": "markdown",
      "id": "47e9da29",
      "metadata": {
        "id": "47e9da29"
      },
      "source": [
        "## Pseudocode for Tic-Tac-Toe Game\n",
        "\n",
        "## Class: TicTacToe\n",
        "\n",
        "### Properties:\n",
        "- `board`: 2D array to represent the game board\n",
        "- `player`: Symbol representing the human player (e.g., 'X')\n",
        "- `opponent`: Symbol representing the AI opponent (e.g., 'O')\n",
        "- `player_turn`: Boolean indicating whether it's the player's turn or not\n",
        "- `prohibited_row`: Row index of the tile that the opponent cannot use\n",
        "- `prohibited_col`: Column index of the tile that the opponent cannot use\n",
        "\n",
        "### Methods:\n",
        "\n",
        "#### Initialization:\n",
        "- `__init__(board, player, opponent, player_turn)`: Initialize the game with a given board state, player, opponent, and turn.\n",
        "\n",
        "#### Game Logic:\n",
        "- `heuristic(board)`: Calculate the heuristic score for a given board state based on symbol placement.\n",
        "- `isMovesLeft_game()`: Check if there are available moves left on the board.\n",
        "- `evaluate_game()`: Evaluate the current game state to determine if there's a winner.\n",
        "- `weak_ai_move()`: AI makes a move based on a simple heuristic.\n",
        "- `game_loop()`: Main game loop controlling player and AI moves until a winner is determined or the game ends in a draw.\n",
        "\n",
        "#### Print Functions:\n",
        "- `print_board()`: Print the current game board in a human-readable format.\n",
        "- `print_board_with_heuristic()`: Print the game board with heuristic scores for each available move.<br><br><br>\n",
        "\n",
        "## Algorithm for Tic-Tac-Toe Game\n",
        "\n",
        "1. **Initialize the Game:**\n",
        "   - Set up the game board, player symbol ('X'), opponent symbol ('O'), and starting turn.<br><br>\n",
        "   \n",
        "2. **Game Loop:**\n",
        "   - Enter a loop that continues until the game reaches a terminal state (win, lose, or draw).<br><br>\n",
        "   \n",
        "3. **Player's Turn:**\n",
        "   - If it's the player's turn:\n",
        "     - Print the current game board along with heuristic scores for available moves.\n",
        "     - Prompt the player to enter their move (row and column).\n",
        "     - Validate the move:\n",
        "       - If the chosen cell is empty, update the board with the player's move.\n",
        "       - If the move is invalid (out of bounds or cell already occupied), prompt the player to enter again.\n",
        "     - Toggle the turn to the opponent.<br><br>\n",
        "   \n",
        "4. **AI's Turn:**\n",
        "   - If it's the AI's turn:\n",
        "     - AI makes a move based on randomization (picks random available move):\n",
        "       - has a tile that it cannot use\n",
        "       - Choose a random tile, except for the tile it cannot use, randomly\n",
        "       - Update the board with the AI's move.\n",
        "     - Toggle the turn back to the player.<br><br>\n",
        "   \n",
        "5. **Check Terminal State:**\n",
        "   - After each move, check if the game has reached a terminal state:\n",
        "     - Check for a win condition:\n",
        "       - If any row, column, or diagonal has three consecutive symbols of the same player, declare the player as the winner.\n",
        "     - Check for a draw condition:\n",
        "       - If there are no more available moves on the board, declare the game as a draw.\n",
        "     - If a terminal state is reached, exit the game loop.<br><br>\n",
        "   \n",
        "6. **Print Final Game State:**\n",
        "   - Once the game loop ends, print the final game board.<br><br>\n",
        "   \n",
        "7. **Print Outcome:**\n",
        "   - Print the outcome of the game (win, lose, or draw) based on the terminal state.<br><br>\n",
        "\n",
        "## End Algorithm"
      ]
    },
    {
      "cell_type": "markdown",
      "id": "dd637f90",
      "metadata": {
        "id": "dd637f90"
      },
      "source": [
        "## Declarations"
      ]
    },
    {
      "cell_type": "code",
      "execution_count": null,
      "id": "32a79524",
      "metadata": {
        "id": "32a79524"
      },
      "outputs": [],
      "source": [
        "# Defining the opponent and player symbols\n",
        "opponent = 'o'\n",
        "player   = 'x'\n",
        "\n",
        "# Defining the initial board\n",
        "board = [\n",
        "    [ '_', '_', '_' ],\n",
        "    [ '_', '_', '_' ],\n",
        "    [ '_', '_', '_' ]\n",
        "]"
      ]
    },
    {
      "cell_type": "markdown",
      "id": "54e17f59",
      "metadata": {
        "id": "54e17f59"
      },
      "source": [
        "## Tic-Tac-Toe Game Class"
      ]
    },
    {
      "cell_type": "code",
      "execution_count": null,
      "id": "8d90f3d2",
      "metadata": {
        "id": "8d90f3d2"
      },
      "outputs": [],
      "source": [
        "class TicTacToe:\n",
        "    def __init__(self, board, player, opponent, player_turn):\n",
        "        # Initialize the Game Board with a specific board\n",
        "        self.board = board\n",
        "\n",
        "        # Initilizing the player and opponent symbols\n",
        "        self.player = player\n",
        "        self.opponent = opponent\n",
        "\n",
        "        # Initilizing whether its player's turn or opponent's turn\n",
        "        self.player_turn = player_turn\n",
        "\n",
        "        # Initializing the prohibited cell for the opponent\n",
        "        self.prohibited_row = random.randint(0, 2)\n",
        "        self.prohibited_col = random.randint(0, 2)\n",
        "\n",
        "    # Function returns the score based on where the\n",
        "    # the symbols have been placed by either the\n",
        "    # player or the opponent. Uses weightage scores.\n",
        "    def heuristic(self, board):\n",
        "        # Initialize score and weight values for calculations.\n",
        "        # more weight if the player occupies the center\n",
        "        # more, but less than center weight for each potential\n",
        "        # two-in-a-row\n",
        "        score = 0\n",
        "        center_weight = 3\n",
        "        line_weight = 2\n",
        "\n",
        "        # Center control\n",
        "        if board[1][1] == self.player:\n",
        "            score += center_weight\n",
        "        elif board[1][1] == self.opponent:\n",
        "            score -= center_weight\n",
        "\n",
        "        # Potential two-in-a-row\n",
        "        for i in range(3):\n",
        "            # Row check\n",
        "            if board[i].count(self.player) == 2 and board[i].count('_') == 1:\n",
        "                score += line_weight\n",
        "            elif board[i].count(self.opponent) == 2 and board[i].count('_') == 1:\n",
        "                score -= line_weight\n",
        "\n",
        "            # Columns check\n",
        "            column = [board[0][i], board[1][i], board[2][i]]\n",
        "            if column.count(self.player) == 2 and column.count('_') == 1:\n",
        "                score += line_weight\n",
        "            elif column.count(self.opponent) == 2 and column.count('_') == 1:\n",
        "                score -= line_weight\n",
        "\n",
        "        # Checking diagonals\n",
        "        # Extracting both diagonals\n",
        "        diag1 = [board[0][0], board[1][1], board[2][2]]\n",
        "        diag2 = [board[0][2], board[1][1], board[2][0]]\n",
        "        for diag in [diag1, diag2]:\n",
        "            if diag.count(self.player) == 2 and diag.count('_') == 1:\n",
        "                score += line_weight\n",
        "            elif diag.count(self.opponent) == 2 and diag.count('_') == 1:\n",
        "                score -= line_weight\n",
        "\n",
        "        # Checking if a move will win the game or not. If it does, make the score = to 10\n",
        "        # First, checking row or column win\n",
        "        for i in range(3):\n",
        "            if board[i][0] == board[i][1] == board[i][2] != '_':\n",
        "                score = 'W' if board[i][0] == self.player else score\n",
        "\n",
        "            if board[0][i] == board[1][i] == board[2][i] != '_':\n",
        "                score = 'W' if board[0][i] == self.player else score\n",
        "\n",
        "        # Now, checking diagonal win\n",
        "        if board[0][0] == board[1][1] == board[2][2] != '_':\n",
        "            score = 'W' if board[0][0] == self.player else score\n",
        "\n",
        "        if board[0][2] == board[1][1] == board[2][0] != '_':\n",
        "            score = 'W' if board[0][2] == self.player else score\n",
        "\n",
        "        return score\n",
        "\n",
        "    # Function to print the board in a pretty way\n",
        "    def print_board(self):\n",
        "        print(\"   -------------\")\n",
        "        for i in range(3):\n",
        "            print(i, \" |\", self.board[i][0], \"|\", self.board[i][1], \"|\", self.board[i][2], \"|\")\n",
        "            print(\"   -------------\")\n",
        "        print(\"     0   1   2\")\n",
        "\n",
        "    # Function to evaluate heuristic for each available move and print it on the board\n",
        "    def print_board_with_heuristic(self):\n",
        "        # Print the indexes of columns of both heuristic and game state board above them\n",
        "        print(\"\\n     0   1   2          0   1   2\")\n",
        "        print(\"   -------------      -------------\")\n",
        "\n",
        "        # Iterate over each row\n",
        "        for i in range(3):\n",
        "\n",
        "            # Print the game state board's ith row\n",
        "            print(i, \" |\", self.board[i][0], \"|\", self.board[i][1], \"|\", self.board[i][2], \"|   \", end = \"\")\n",
        "\n",
        "            # Print the heuristic board's ith row by calculating heuristic for each\n",
        "            # individual cell using the custom heuristic function.\n",
        "            # Iterate over each column for the specific row\n",
        "            print(i, \" |\", end=\"\")\n",
        "            for j in range(3):\n",
        "\n",
        "                # If the move is available (empty box)\n",
        "                if self.board[i][j] == '_':\n",
        "\n",
        "                    # Create a temporary board to evaluate the heuristic for this move\n",
        "                    temp_board = [row[:] for row in self.board]  # Create a deep copy of the board\n",
        "                    temp_board[i][j] = self.player  # Simulate the player's move\n",
        "\n",
        "                    # Calculate the heuristic for this move\n",
        "                    heuristic_score = self.heuristic(temp_board)\n",
        "\n",
        "                    # Print the heuristic score inside the tile\n",
        "                    print(f\" {heuristic_score} |\", end=\"\")\n",
        "                else:\n",
        "                    print(f\" {self.board[i][j]} |\", end=\"\")\n",
        "            print(\"\\n   -------------      -------------\")\n",
        "\n",
        "    # This function returns true if there are moves\n",
        "    # remaining on the board. It returns false if\n",
        "    # there are no moves left to play.\n",
        "    def isMovesLeft_game(self) :\n",
        "\n",
        "        for i in range(3) :\n",
        "            for j in range(3) :\n",
        "                if (self.board[i][j] == '_') :\n",
        "                    return True\n",
        "        return False\n",
        "\n",
        "    # This is the evaluation function as discussed\n",
        "    # in the previous article ( http://goo.gl/sJgv68 )\n",
        "    def evaluate_game(self) :\n",
        "\n",
        "        # Checking for Rows for X or O victory.\n",
        "        for row in range(3) :\n",
        "            if (self.board[row][0] == self.board[row][1] and self.board[row][1] == self.board[row][2]) :\n",
        "                if (self.board[row][0] == self.player) :\n",
        "                    return 10\n",
        "                elif (self.board[row][0] == self.opponent) :\n",
        "                    return -10\n",
        "\n",
        "        # Checking for Columns for X or O victory.\n",
        "        for col in range(3) :\n",
        "\n",
        "            if (self.board[0][col] == self.board[1][col] and self.board[1][col] == self.board[2][col]) :\n",
        "\n",
        "                if (self.board[0][col] == self.player) :\n",
        "                    return 10\n",
        "                elif (self.board[0][col] == self.opponent) :\n",
        "                    return -10\n",
        "\n",
        "        # Checking for Diagonals for X or O victory.\n",
        "        if (self.board[0][0] == self.board[1][1] and self.board[1][1] == self.board[2][2]) :\n",
        "\n",
        "            if (self.board[0][0] == self.player) :\n",
        "                return 10\n",
        "            elif (self.board[0][0] == self.opponent) :\n",
        "                return -10\n",
        "\n",
        "        if (self.board[0][2] == self.board[1][1] and self.board[1][1] == self.board[2][0]) :\n",
        "\n",
        "            if (self.board[0][2] == self.player) :\n",
        "                return 10\n",
        "            elif (self.board[0][2] == self.opponent) :\n",
        "                return -10\n",
        "\n",
        "        # Else if none of them have won then return 0\n",
        "        return 0\n",
        "\n",
        "    def weak_ai_move(self):\n",
        "        # Initialize available moves list to carry all available indices for opponent\n",
        "        available_moves = []\n",
        "\n",
        "        # Iterate all tiles\n",
        "        for i in range(3):\n",
        "            for j in range(3):\n",
        "                # If conditions are met, append the row & column index in the available\n",
        "                # moves list as a tuple (row, col)\n",
        "                if self.board[i][j] == '_' and not (i == self.prohibited_row and j == self.prohibited_col):\n",
        "                    available_moves.append((i, j))\n",
        "\n",
        "        # If AI has no choice but to use the prohibited tile due to no other options, allow it\n",
        "        if not available_moves:\n",
        "            available_moves.append((self.prohibited_row, self.prohibiited_col))\n",
        "\n",
        "        # Randomly choose one of the available moves\n",
        "        chosen_move = random.choice(available_moves)\n",
        "        self.board[chosen_move[0]][chosen_move[1]] = self.opponent\n",
        "\n",
        "    # Main game loop (iterated untill someone wins, or the game reaches a terminal state)\n",
        "    def game_loop(self):\n",
        "        # Checking if moves are left\n",
        "        while self.isMovesLeft_game():\n",
        "\n",
        "            # If it is the players turn\n",
        "            if self.player_turn:\n",
        "                print(\"====================================\\n\")\n",
        "                print(\"   Current board     Heuristic Board\")\n",
        "                self.print_board_with_heuristic()\n",
        "\n",
        "                # Take the row and column as an input\n",
        "                row = int(input(\"Enter your move row: \"))\n",
        "                col = int(input(\"Enter your move column: \"))\n",
        "                print(\"\\n====================================\")\n",
        "\n",
        "                # If it is an available move, put player in the position\n",
        "                if (-1 < row < 3) and (-1 < col < 3):\n",
        "                    if self.board[row][col] == '_':\n",
        "                        self.board[row][col] = self.player\n",
        "                        self.player_turn = False\n",
        "                    else:\n",
        "                        print(\"Invalid move, try again.\")\n",
        "                else:\n",
        "                    print(\"Invalid move, try again.\")\n",
        "\n",
        "            # AI's turn\n",
        "            else:\n",
        "                self.weak_ai_move()\n",
        "                self.player_turn = True\n",
        "\n",
        "            print()\n",
        "\n",
        "            # Evaluate the score to check if someone has already won,\n",
        "            # and if yes, then  break the gameloop\n",
        "            score = self.evaluate_game()\n",
        "            if score != 0:\n",
        "                break\n",
        "\n",
        "        # Print the final game state after the game has reached the\n",
        "        # terminal state, and print the score.\n",
        "        print(\"\\n====================================\\n\")\n",
        "        print(\"Final board:\")\n",
        "        self.print_board()\n",
        "        print(\"\\n====================================\")\n",
        "        if score == 10:\n",
        "            print(\"\\nYou win! Haha, take that AI!\")\n",
        "        elif score == -10:\n",
        "            print(\"\\nAI wins! Haha, you're such a noob!\")\n",
        "        else:\n",
        "            print(\"\\nIt's a draw! Bruh....\")"
      ]
    },
    {
      "cell_type": "markdown",
      "id": "b38630b0",
      "metadata": {
        "id": "b38630b0"
      },
      "source": [
        "## Main"
      ]
    },
    {
      "cell_type": "markdown",
      "id": "84ae9859",
      "metadata": {
        "id": "84ae9859"
      },
      "source": [
        "### Initializing the game with pre-defined parameters"
      ]
    },
    {
      "cell_type": "code",
      "execution_count": null,
      "id": "0ec4b1ad",
      "metadata": {
        "id": "0ec4b1ad"
      },
      "outputs": [],
      "source": [
        "# Initialize and start the game\n",
        "game = TicTacToe(board       = copy.deepcopy(board),\n",
        "                 player      = player,\n",
        "                 opponent    = opponent,\n",
        "                 player_turn = True)"
      ]
    },
    {
      "cell_type": "markdown",
      "id": "f4d9db6d",
      "metadata": {
        "id": "f4d9db6d"
      },
      "source": [
        "### Run the game loop"
      ]
    },
    {
      "cell_type": "code",
      "execution_count": null,
      "id": "17793796",
      "metadata": {
        "id": "17793796",
        "outputId": "aa9cd5e5-2da9-4fd4-95ad-2ef276a36589"
      },
      "outputs": [
        {
          "name": "stdout",
          "output_type": "stream",
          "text": [
            "====================================\n",
            "\n",
            "   Current board     Heuristic Board\n",
            "\n",
            "     0   1   2          0   1   2\n",
            "   -------------      -------------\n",
            "0  | _ | _ | _ |   0  | 0 | 0 | 0 |\n",
            "   -------------      -------------\n",
            "1  | _ | _ | _ |   1  | 0 | 3 | 0 |\n",
            "   -------------      -------------\n",
            "2  | _ | _ | _ |   2  | 0 | 0 | 0 |\n",
            "   -------------      -------------\n",
            "Enter your move row: 1\n",
            "Enter your move column: 1\n",
            "\n",
            "====================================\n",
            "\n",
            "\n",
            "====================================\n",
            "\n",
            "   Current board     Heuristic Board\n",
            "\n",
            "     0   1   2          0   1   2\n",
            "   -------------      -------------\n",
            "0  | _ | _ | _ |   0  | 5 | 5 | 5 |\n",
            "   -------------      -------------\n",
            "1  | _ | x | o |   1  | 3 | x | o |\n",
            "   -------------      -------------\n",
            "2  | _ | _ | _ |   2  | 5 | 5 | 5 |\n",
            "   -------------      -------------\n",
            "Enter your move row: 0\n",
            "Enter your move column: 1\n",
            "\n",
            "====================================\n",
            "\n",
            "\n",
            "====================================\n",
            "\n",
            "   Current board     Heuristic Board\n",
            "\n",
            "     0   1   2          0   1   2\n",
            "   -------------      -------------\n",
            "0  | _ | x | o |   0  | 5 | x | o |\n",
            "   -------------      -------------\n",
            "1  | _ | x | o |   1  | 3 | x | o |\n",
            "   -------------      -------------\n",
            "2  | _ | _ | _ |   2  | 3 | W | 7 |\n",
            "   -------------      -------------\n",
            "Enter your move row: 2\n",
            "Enter your move column: 1\n",
            "\n",
            "====================================\n",
            "\n",
            "\n",
            "====================================\n",
            "\n",
            "Final board:\n",
            "   -------------\n",
            "0  | _ | x | o |\n",
            "   -------------\n",
            "1  | _ | x | o |\n",
            "   -------------\n",
            "2  | _ | x | _ |\n",
            "   -------------\n",
            "     0   1   2\n",
            "\n",
            "====================================\n",
            "\n",
            "You win! Haha, take that AI!\n"
          ]
        }
      ],
      "source": [
        "game.game_loop()"
      ]
    },
    {
      "cell_type": "markdown",
      "id": "2242a563",
      "metadata": {
        "id": "2242a563"
      },
      "source": [
        "# ***Thank You!***"
      ]
    }
  ],
  "metadata": {
    "kernelspec": {
      "display_name": "Python 3 (ipykernel)",
      "language": "python",
      "name": "python3"
    },
    "language_info": {
      "codemirror_mode": {
        "name": "ipython",
        "version": 3
      },
      "file_extension": ".py",
      "mimetype": "text/x-python",
      "name": "python",
      "nbconvert_exporter": "python",
      "pygments_lexer": "ipython3",
      "version": "3.11.4"
    },
    "colab": {
      "provenance": []
    }
  },
  "nbformat": 4,
  "nbformat_minor": 5
}